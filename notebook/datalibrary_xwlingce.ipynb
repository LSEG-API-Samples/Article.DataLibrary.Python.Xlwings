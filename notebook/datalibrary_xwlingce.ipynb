{
 "cells": [
  {
   "cell_type": "markdown",
   "id": "40513ca9-b953-4085-92b0-ed06ebf58e59",
   "metadata": {},
   "source": [
    "# How to integrate Financial Data from Refinitiv Data Platform to Excel with Xlwings - Part 1\n",
    "\n",
    "## Overview\n",
    "\n",
    "With the rise of Data Scientists, Financial coders or Traders (aka Citizen Developers), and the rapid growth of [Jupyter](https://jupyter.org/) application, the main target of every Citizen Developer is replacing [Microsoft Excel](https://www.microsoft.com/en-us/microsoft-365/excel) with the Jupyter application (reference: [Jupyter is the new Excel](https://towardsdatascience.com/jupyter-is-the-new-excel-a7a22f2fc13a)).\n",
    "\n",
    "However, Excel is not obsolete and is still an important file-format/application for businesses. It is easy to distribute, and non-IT people (especially your boss) can open it easily rather than having to set up the Jupyter/Python environment.\n",
    "\n",
    "This article is the first part of the series that demonstrate how to export financial data and report from Python/Jupyter application to Excel report file using xlwings CE and xlwings Pro libraries. The demo application uses content from [Refinitiv Data Platform (RDP)](https://developers.refinitiv.com/en/api-catalog/refinitiv-data-platform/refinitiv-data-platform-apis) via the ease-of-use [Data Library for Python](https://developers.lseg.com/en/api-catalog/refinitiv-data-platform/refinitiv-data-library-for-python) as an example of  a dataset."
   ]
  },
  {
   "cell_type": "markdown",
   "id": "c74ba72d-f8df-452d-b80c-86a66f5af48f",
   "metadata": {},
   "source": [
    "## Introduction to xlwings\n",
    "\n",
    "[xlwings](https://www.xlwings.org) is a Python library that makes it easy to call Python from Excel and vice versa on Windows and macOS. The library lets you automate Excel from Python source code to produce reports or to interact with Jupyter notebook applications. It also allows you to replace VBA macros with Python Code or write UDFs (user defined functions - Windows only).\n",
    "* The [xlwings CE](https://docs.xlwings.org/en/stable) is a free and open-source library ([BSD-licensed](https://opensource.org/licenses/BSD-3-Clause)) which provides basic functionalities to lets developers integrate Python with Excel. \n",
    "* The [xlwings PRO](https://docs.xlwings.org/en/latest/pro/license_key.html) provides more advance features such as [reports](https://www.xlwings.org/reporting), embedded Python code in Excel, one-click installers for easy deployment, video training, dedicated support and much more. \n",
    " \n",
    "\n",
    "*Note*:\n",
    "- This notebook is based on xlwings versions **0.30.12**."
   ]
  },
  {
   "cell_type": "markdown",
   "id": "4469d4d8-7bf0-44ea-a6c2-df082f30b027",
   "metadata": {},
   "source": [
    "## Introduction to the Data Library for Python\n",
    "\n",
    "The Refinitiv Data Library for Python provides a set of ease-of-use interfaces offering coders uniform access to the breadth and depth of financial data and services available on the Refinitiv Data Platform. The API is designed to provide consistent access through multiple access channels and target both Professional Developers and Financial Coders. Developers can choose to access content from the desktop, through their deployed streaming services, or directly to the cloud. With the Refinitiv Data Library, the same Python code can be used to retrieve data regardless of which access point you choose to connect to the platform.\n",
    "\n",
    "![Figure-1](images/rdlib_image.png \"Data Library Diagram\") \n",
    "\n",
    "The RDP Library are available in the following programming languages:\n",
    "- [Python](https://developers.lseg.com/en/api-catalog/refinitiv-data-platform/refinitiv-data-library-for-python)\n",
    "- [TypeScript/JavaScript](https://developers.lseg.com/en/api-catalog/refinitiv-data-platform/refinitiv-data-library-for-typescript)\n",
    "- [.NET](https://developers.lseg.com/en/api-catalog/refinitiv-data-platform/refinitiv-data-library-for--net)\n",
    "\n",
    "For more deep detail regarding the RDP Libraries, please refer to the following articles and tutorials:\n",
    "- [Quickstart](https://developers.lseg.com/en/api-catalog/refinitiv-data-platform/refinitiv-data-library-for-python/quick-start).\n",
    "- [Documentation](https://developers.lseg.com/en/api-catalog/refinitiv-data-platform/refinitiv-data-library-for-python/documentation).\n",
    "- [Tutorials](https://developers.lseg.com/en/api-catalog/refinitiv-data-platform/refinitiv-data-library-for-python/tutorials).\n",
    "- [GitHub](https://github.com/LSEG-API-Samples/Example.DataLibrary.Python).\n",
    "\n",
    "### Disclaimer\n",
    "\n",
    "As this notebook is based on RD Library Python versions **1.5.0**.\n",
    "\n",
    "## Code Walkthrough\n",
    "\n",
    "Let start with xlwings CE first. The application needs to import ```xlwings``` and ```refinitiv.data``` packages in order to interact with xlwings CE and RD library."
   ]
  },
  {
   "cell_type": "code",
   "execution_count": 2,
   "id": "a4c0e735-bd3f-40de-9bff-a2dd525fad9c",
   "metadata": {},
   "outputs": [],
   "source": [
    "# import xlwings and RD library\n",
    "import xlwings as xw\n",
    "import refinitiv.data as rd"
   ]
  },
  {
   "cell_type": "markdown",
   "id": "e5106000-d626-4873-9608-7f1a3b34ed15",
   "metadata": {},
   "source": [
    "Next,set the App Key credentials and import other required libraries"
   ]
  },
  {
   "cell_type": "code",
   "execution_count": 3,
   "id": "1c177e37-e6a8-46ca-90c4-92eec5b9273a",
   "metadata": {},
   "outputs": [],
   "source": [
    "import os\n",
    "import sys\n",
    "from dotenv import dotenv_values\n",
    "import numpy as np\n",
    "import pandas as pd\n",
    "import matplotlib.pyplot as plt\n",
    "import matplotlib\n",
    "import matplotlib.ticker as tick\n",
    "import json\n",
    "config = dotenv_values(\".env\")\n",
    "\n",
    "\n",
    "appkey = config['WS_APP_KEY']"
   ]
  },
  {
   "cell_type": "markdown",
   "id": "eaa4879f-1f41-447c-8a30-a39a41912d0c",
   "metadata": {},
   "source": [
    "The next step is to open a session defined in a custom configuration file.\n",
    "\n",
    "This Jupyter Notebook is focusing on the *DesktopSession* only. However, the main logic for other session types are the same when interacts with xlwings library."
   ]
  },
  {
   "cell_type": "code",
   "execution_count": 4,
   "id": "fcbb9c8a-03e3-4bd8-ab60-a97918a00cc5",
   "metadata": {},
   "outputs": [
    {
     "data": {
      "text/plain": [
       "<refinitiv.data.session.Definition object at 0x216ca38cd90 {name='workspace'}>"
      ]
     },
     "execution_count": 4,
     "metadata": {},
     "output_type": "execute_result"
    }
   ],
   "source": [
    "rd.open_session(config_name='./refinitiv-data.dev.config.json')"
   ]
  },
  {
   "cell_type": "markdown",
   "id": "f8737e7c-2bbc-4cca-8ee9-ec484ea1c6d0",
   "metadata": {},
   "source": [
    "Firstly, we will use RD Library to request time-series data as a [Pandas DataFrame](https://pandas.pydata.org/pandas-docs/stable/reference/api/pandas.DataFrame.html) object. "
   ]
  },
  {
   "cell_type": "code",
   "execution_count": 5,
   "id": "0cbbe4e7-53a2-4c0d-b081-943a6c1edadd",
   "metadata": {},
   "outputs": [],
   "source": [
    "# Declare parameter(s)\n",
    "universe = 'LSEG.L'\n",
    "historical_title = '%s Historical Data' % (universe)"
   ]
  },
  {
   "cell_type": "code",
   "execution_count": 6,
   "id": "c8953f74-5ba6-4b0b-afe5-bfc8ea918551",
   "metadata": {},
   "outputs": [
    {
     "data": {
      "text/html": [
       "<div>\n",
       "<style scoped>\n",
       "    .dataframe tbody tr th:only-of-type {\n",
       "        vertical-align: middle;\n",
       "    }\n",
       "\n",
       "    .dataframe tbody tr th {\n",
       "        vertical-align: top;\n",
       "    }\n",
       "\n",
       "    .dataframe thead th {\n",
       "        text-align: right;\n",
       "    }\n",
       "</style>\n",
       "<table border=\"1\" class=\"dataframe\">\n",
       "  <thead>\n",
       "    <tr style=\"text-align: right;\">\n",
       "      <th>LSEG.L</th>\n",
       "      <th>BID</th>\n",
       "      <th>ASK</th>\n",
       "      <th>OPEN_PRC</th>\n",
       "      <th>HIGH_1</th>\n",
       "      <th>LOW_1</th>\n",
       "      <th>TRDPRC_1</th>\n",
       "      <th>NUM_MOVES</th>\n",
       "    </tr>\n",
       "    <tr>\n",
       "      <th>Date</th>\n",
       "      <th></th>\n",
       "      <th></th>\n",
       "      <th></th>\n",
       "      <th></th>\n",
       "      <th></th>\n",
       "      <th></th>\n",
       "      <th></th>\n",
       "    </tr>\n",
       "  </thead>\n",
       "  <tbody>\n",
       "    <tr>\n",
       "      <th>2023-07-12</th>\n",
       "      <td>7986</td>\n",
       "      <td>7988</td>\n",
       "      <td>8024</td>\n",
       "      <td>8078</td>\n",
       "      <td>7976</td>\n",
       "      <td>8034.0</td>\n",
       "      <td>4046</td>\n",
       "    </tr>\n",
       "    <tr>\n",
       "      <th>2023-07-13</th>\n",
       "      <td>8092</td>\n",
       "      <td>8094</td>\n",
       "      <td>8018</td>\n",
       "      <td>8108</td>\n",
       "      <td>7970</td>\n",
       "      <td>7987.66663</td>\n",
       "      <td>3731</td>\n",
       "    </tr>\n",
       "    <tr>\n",
       "      <th>2023-07-14</th>\n",
       "      <td>8288</td>\n",
       "      <td>8290</td>\n",
       "      <td>8070</td>\n",
       "      <td>8318</td>\n",
       "      <td>8070</td>\n",
       "      <td>8070.0</td>\n",
       "      <td>3862</td>\n",
       "    </tr>\n",
       "    <tr>\n",
       "      <th>2023-07-17</th>\n",
       "      <td>8300</td>\n",
       "      <td>8302</td>\n",
       "      <td>8250</td>\n",
       "      <td>8322</td>\n",
       "      <td>8236</td>\n",
       "      <td>8296.0</td>\n",
       "      <td>2033</td>\n",
       "    </tr>\n",
       "    <tr>\n",
       "      <th>2023-07-18</th>\n",
       "      <td>8306</td>\n",
       "      <td>8308</td>\n",
       "      <td>8344</td>\n",
       "      <td>8344</td>\n",
       "      <td>8266</td>\n",
       "      <td>8308.0</td>\n",
       "      <td>3379</td>\n",
       "    </tr>\n",
       "    <tr>\n",
       "      <th>...</th>\n",
       "      <td>...</td>\n",
       "      <td>...</td>\n",
       "      <td>...</td>\n",
       "      <td>...</td>\n",
       "      <td>...</td>\n",
       "      <td>...</td>\n",
       "      <td>...</td>\n",
       "    </tr>\n",
       "    <tr>\n",
       "      <th>2023-11-09</th>\n",
       "      <td>8534</td>\n",
       "      <td>8536</td>\n",
       "      <td>8510</td>\n",
       "      <td>8588</td>\n",
       "      <td>8510</td>\n",
       "      <td>8510.0</td>\n",
       "      <td>4114</td>\n",
       "    </tr>\n",
       "    <tr>\n",
       "      <th>2023-11-10</th>\n",
       "      <td>8554</td>\n",
       "      <td>8556</td>\n",
       "      <td>8536</td>\n",
       "      <td>8578</td>\n",
       "      <td>8514</td>\n",
       "      <td>8544.6723</td>\n",
       "      <td>2932</td>\n",
       "    </tr>\n",
       "    <tr>\n",
       "      <th>2023-11-13</th>\n",
       "      <td>8446</td>\n",
       "      <td>8448</td>\n",
       "      <td>8578</td>\n",
       "      <td>8588</td>\n",
       "      <td>8416</td>\n",
       "      <td>8461.75</td>\n",
       "      <td>5490</td>\n",
       "    </tr>\n",
       "    <tr>\n",
       "      <th>2023-11-14</th>\n",
       "      <td>8322</td>\n",
       "      <td>8324</td>\n",
       "      <td>8480</td>\n",
       "      <td>8480</td>\n",
       "      <td>8254</td>\n",
       "      <td>8310.2851</td>\n",
       "      <td>4675</td>\n",
       "    </tr>\n",
       "    <tr>\n",
       "      <th>2023-11-15</th>\n",
       "      <td>8384</td>\n",
       "      <td>8386</td>\n",
       "      <td>8356</td>\n",
       "      <td>8450</td>\n",
       "      <td>8332</td>\n",
       "      <td>8352.0</td>\n",
       "      <td>5808</td>\n",
       "    </tr>\n",
       "  </tbody>\n",
       "</table>\n",
       "<p>90 rows × 7 columns</p>\n",
       "</div>"
      ],
      "text/plain": [
       "LSEG.L       BID   ASK  OPEN_PRC  HIGH_1  LOW_1    TRDPRC_1  NUM_MOVES\n",
       "Date                                                                  \n",
       "2023-07-12  7986  7988      8024    8078   7976      8034.0       4046\n",
       "2023-07-13  8092  8094      8018    8108   7970  7987.66663       3731\n",
       "2023-07-14  8288  8290      8070    8318   8070      8070.0       3862\n",
       "2023-07-17  8300  8302      8250    8322   8236      8296.0       2033\n",
       "2023-07-18  8306  8308      8344    8344   8266      8308.0       3379\n",
       "...          ...   ...       ...     ...    ...         ...        ...\n",
       "2023-11-09  8534  8536      8510    8588   8510      8510.0       4114\n",
       "2023-11-10  8554  8556      8536    8578   8514   8544.6723       2932\n",
       "2023-11-13  8446  8448      8578    8588   8416     8461.75       5490\n",
       "2023-11-14  8322  8324      8480    8480   8254   8310.2851       4675\n",
       "2023-11-15  8384  8386      8356    8450   8332      8352.0       5808\n",
       "\n",
       "[90 rows x 7 columns]"
      ]
     },
     "execution_count": 6,
     "metadata": {},
     "output_type": "execute_result"
    }
   ],
   "source": [
    "df_historical = rd.get_history(\n",
    "    universe=[universe], \n",
    "    fields=['BID','ASK','OPEN_PRC','HIGH_1','LOW_1','TRDPRC_1','NUM_MOVES'], \n",
    "    interval='1D',\n",
    "    count = 90\n",
    ")\n",
    "df_historical"
   ]
  },
  {
   "cell_type": "markdown",
   "id": "dff97b3a-3956-4fda-a936-19885df15b1f",
   "metadata": {},
   "source": [
    "### Interact with xlwings CE\n",
    "\n",
    "With xlwings, we can export this ```df_historical``` DataFrame to excel directly.\n",
    "\n",
    "The first step is initiate xlwings object and establish a connection to a workbook."
   ]
  },
  {
   "cell_type": "code",
   "execution_count": 7,
   "id": "9e27f4b9-1cd3-4da7-a909-3c6c50a0bf5e",
   "metadata": {},
   "outputs": [],
   "source": [
    "wb = xw.Book() # Creating an new excel file. wb = xw.Book(filename) would open an existing file"
   ]
  },
  {
   "cell_type": "markdown",
   "id": "5ffbe95d-b256-4a64-a055-1511b5646318",
   "metadata": {},
   "source": [
    "The above step initiates xlwings workbook class in ```wb``` object. The ```wb = xw.Book()``` statement creates a new excel file. If you are using ```wb = xw.Book(filename)```, the xlwings will open an existing file.\n",
    "\n",
    "![Figure-2](images/report_1.png \"create a blank excel workbook\") \n",
    "\n",
    "Next, instantiate the xlwings [sheet object](https://docs.xlwings.org/en/stable/api.html#sheet). The application will interact with Excel file mostly via this sheet object."
   ]
  },
  {
   "cell_type": "code",
   "execution_count": 8,
   "id": "518ea79f-89de-4f0d-b7ee-67f044f9b827",
   "metadata": {},
   "outputs": [],
   "source": [
    "# Select the first excel sheet, and rename it\n",
    "\n",
    "historical_sheet = wb.sheets[0]\n",
    "historical_sheet.name = historical_title"
   ]
  },
  {
   "cell_type": "markdown",
   "id": "3a611e29-8f59-4d71-99d1-5750d169f5e5",
   "metadata": {},
   "source": [
    "![Figure-3](images/report_2_rename_sheet.png \"rename workbook\") "
   ]
  },
  {
   "cell_type": "markdown",
   "id": "ef033a59-3a2b-4d0d-9e3e-ef4fa1019cbb",
   "metadata": {},
   "source": [
    "Then you can just pass your dataframe object to ```sheet.range(<cell>).value``` property to set Pandas DataFrame to Excel directly."
   ]
  },
  {
   "cell_type": "code",
   "execution_count": 9,
   "id": "5008ab46-8c9e-4b08-ae80-75a0f2ab2119",
   "metadata": {},
   "outputs": [],
   "source": [
    "# Set historical_sheet dataframe to cell A1\n",
    "\n",
    "historical_sheet.range(\"A1\").value = df_historical.head(30)"
   ]
  },
  {
   "cell_type": "markdown",
   "id": "2827538c-a6f9-43fa-8b83-6deba8a5dc1a",
   "metadata": {},
   "source": [
    "![Figure-4](images/report_3_dataframe.png \"add data as is\") "
   ]
  },
  {
   "cell_type": "markdown",
   "id": "5ed209f6-a4be-4a6d-8660-6a0452fd3bb1",
   "metadata": {},
   "source": [
    "That is, the application is ready to get and export Refinitiv Data to an Excel file.\n",
    "\n",
    "The above example shows how to export data \"as is\" which often hard to read. The application can use xlwings API to customize excel report look and feel, and then customize Pandas DataFrame to make data easier to understand."
   ]
  },
  {
   "cell_type": "code",
   "execution_count": 10,
   "id": "8273c661-ab85-4ce9-8f8a-2511c4155483",
   "metadata": {},
   "outputs": [],
   "source": [
    "# Clear current sheet\n",
    "historical_sheet.clear()"
   ]
  },
  {
   "cell_type": "markdown",
   "id": "e9b2b242-8c48-41b3-9d1f-b75268c770d5",
   "metadata": {},
   "source": [
    "Then we use xlwings ```Sheet``` object and its ```api``` property to change report look and feel.\n",
    "\n",
    "*Note*:\n",
    "The xlwings ```api``` property supports Windows only. For MacOS, please refer to [this page](https://docs.xlwings.org/en/stable/missing_features.html)."
   ]
  },
  {
   "cell_type": "code",
   "execution_count": 11,
   "id": "2538eaee-13bf-4076-9dc3-4b91c6b8a84f",
   "metadata": {},
   "outputs": [],
   "source": [
    "historical_sheet.range(\"A1\").value = historical_title\n",
    "historical_sheet.range(\"A1\").api.Font.Size = 14 # Change font size\n",
    "historical_sheet.range(\"A1\").api.Font.ColorIndex = 2 # Change font color\n",
    "historical_sheet.range('A1:H1').color = (0,0,255) # Change cell background color"
   ]
  },
  {
   "cell_type": "markdown",
   "id": "2a7c0b27-bba2-408b-90b4-ef9dd3f426aa",
   "metadata": {},
   "source": [
    "The above statements create the following excel  report look and feel.\n",
    "\n",
    "![Figure-5](images/report_4.png \"set title and header\") \n",
    "\n",
    "We can restructure the ```df_historical``` DataFrame to make it easier to read by naming the index column to \"Date\""
   ]
  },
  {
   "cell_type": "code",
   "execution_count": 12,
   "id": "e4e5ab8e-ba0b-4d41-902f-52461d29ca6f",
   "metadata": {},
   "outputs": [
    {
     "data": {
      "text/html": [
       "<div>\n",
       "<style scoped>\n",
       "    .dataframe tbody tr th:only-of-type {\n",
       "        vertical-align: middle;\n",
       "    }\n",
       "\n",
       "    .dataframe tbody tr th {\n",
       "        vertical-align: top;\n",
       "    }\n",
       "\n",
       "    .dataframe thead th {\n",
       "        text-align: right;\n",
       "    }\n",
       "</style>\n",
       "<table border=\"1\" class=\"dataframe\">\n",
       "  <thead>\n",
       "    <tr style=\"text-align: right;\">\n",
       "      <th>LSEG.L</th>\n",
       "      <th>BID</th>\n",
       "      <th>ASK</th>\n",
       "      <th>OPEN_PRC</th>\n",
       "      <th>HIGH_1</th>\n",
       "      <th>LOW_1</th>\n",
       "      <th>TRDPRC_1</th>\n",
       "      <th>NUM_MOVES</th>\n",
       "    </tr>\n",
       "    <tr>\n",
       "      <th>Date</th>\n",
       "      <th></th>\n",
       "      <th></th>\n",
       "      <th></th>\n",
       "      <th></th>\n",
       "      <th></th>\n",
       "      <th></th>\n",
       "      <th></th>\n",
       "    </tr>\n",
       "  </thead>\n",
       "  <tbody>\n",
       "    <tr>\n",
       "      <th>2023-07-12</th>\n",
       "      <td>7986</td>\n",
       "      <td>7988</td>\n",
       "      <td>8024</td>\n",
       "      <td>8078</td>\n",
       "      <td>7976</td>\n",
       "      <td>8034.0</td>\n",
       "      <td>4046</td>\n",
       "    </tr>\n",
       "    <tr>\n",
       "      <th>2023-07-13</th>\n",
       "      <td>8092</td>\n",
       "      <td>8094</td>\n",
       "      <td>8018</td>\n",
       "      <td>8108</td>\n",
       "      <td>7970</td>\n",
       "      <td>7987.66663</td>\n",
       "      <td>3731</td>\n",
       "    </tr>\n",
       "    <tr>\n",
       "      <th>2023-07-14</th>\n",
       "      <td>8288</td>\n",
       "      <td>8290</td>\n",
       "      <td>8070</td>\n",
       "      <td>8318</td>\n",
       "      <td>8070</td>\n",
       "      <td>8070.0</td>\n",
       "      <td>3862</td>\n",
       "    </tr>\n",
       "    <tr>\n",
       "      <th>2023-07-17</th>\n",
       "      <td>8300</td>\n",
       "      <td>8302</td>\n",
       "      <td>8250</td>\n",
       "      <td>8322</td>\n",
       "      <td>8236</td>\n",
       "      <td>8296.0</td>\n",
       "      <td>2033</td>\n",
       "    </tr>\n",
       "    <tr>\n",
       "      <th>2023-07-18</th>\n",
       "      <td>8306</td>\n",
       "      <td>8308</td>\n",
       "      <td>8344</td>\n",
       "      <td>8344</td>\n",
       "      <td>8266</td>\n",
       "      <td>8308.0</td>\n",
       "      <td>3379</td>\n",
       "    </tr>\n",
       "  </tbody>\n",
       "</table>\n",
       "</div>"
      ],
      "text/plain": [
       "LSEG.L       BID   ASK  OPEN_PRC  HIGH_1  LOW_1    TRDPRC_1  NUM_MOVES\n",
       "Date                                                                  \n",
       "2023-07-12  7986  7988      8024    8078   7976      8034.0       4046\n",
       "2023-07-13  8092  8094      8018    8108   7970  7987.66663       3731\n",
       "2023-07-14  8288  8290      8070    8318   8070      8070.0       3862\n",
       "2023-07-17  8300  8302      8250    8322   8236      8296.0       2033\n",
       "2023-07-18  8306  8308      8344    8344   8266      8308.0       3379"
      ]
     },
     "execution_count": 12,
     "metadata": {},
     "output_type": "execute_result"
    }
   ],
   "source": [
    "df_historical.index.name = 'Date'\n",
    "df_historical.head(5)"
   ]
  },
  {
   "cell_type": "markdown",
   "id": "ae8f57f2-a740-4183-811d-7253c7592607",
   "metadata": {},
   "source": [
    "Next, we set the DataFrame object to *A2* cell, then set column header font and background color to make them distinguish from data."
   ]
  },
  {
   "cell_type": "code",
   "execution_count": 13,
   "id": "4c923e28-8b91-4d78-aec7-4401209f1d98",
   "metadata": {},
   "outputs": [],
   "source": [
    "historical_sheet.range(\"A2\").value = df_historical.head(30)\n",
    "\n",
    "#Make Column headers bold\n",
    "historical_sheet.range('2:1').api.Font.Bold = True\n",
    "# Change cell background color\n",
    "historical_sheet.range('A2:H2').color = (144,238,144) \n",
    "# Set sheet autofit the width of row\n",
    "historical_sheet.autofit('r')"
   ]
  },
  {
   "cell_type": "markdown",
   "id": "8798c060-d31e-42f9-9c34-a6e729942a76",
   "metadata": {},
   "source": [
    "The result is the following readable report table:\n",
    "\n",
    "![Figure-6](images/report_5.png \"workbook with format\") "
   ]
  },
  {
   "cell_type": "markdown",
   "id": "e55881b8-619e-4e03-b1b6-792ec7dbb882",
   "metadata": {},
   "source": [
    "## Plotting a Graph\n",
    "\n",
    "The xlwings CE also supports [Matplotlib](https://matplotlib.org/) figures in Excel as a picture.\n",
    "\n",
    "Firstly, we change all non-Date columns data type from String to Float."
   ]
  },
  {
   "cell_type": "code",
   "execution_count": 14,
   "id": "6b96de58-1725-450d-bdf6-cd9895067f6f",
   "metadata": {},
   "outputs": [],
   "source": [
    "for column in df_historical:\n",
    "    df_historical[column]=df_historical[column].astype(float)"
   ]
  },
  {
   "cell_type": "markdown",
   "id": "f52821d6-0fb9-4490-8f21-f0ba1fe540c4",
   "metadata": {},
   "source": [
    " we change the DataFrame Date index to be a data column. This will let us plot a graph using **Date** as X-Axis."
   ]
  },
  {
   "cell_type": "code",
   "execution_count": 15,
   "id": "129ba6f1-53fe-4eca-9a0c-40a2bc1fda10",
   "metadata": {},
   "outputs": [
    {
     "data": {
      "text/html": [
       "<div>\n",
       "<style scoped>\n",
       "    .dataframe tbody tr th:only-of-type {\n",
       "        vertical-align: middle;\n",
       "    }\n",
       "\n",
       "    .dataframe tbody tr th {\n",
       "        vertical-align: top;\n",
       "    }\n",
       "\n",
       "    .dataframe thead th {\n",
       "        text-align: right;\n",
       "    }\n",
       "</style>\n",
       "<table border=\"1\" class=\"dataframe\">\n",
       "  <thead>\n",
       "    <tr style=\"text-align: right;\">\n",
       "      <th>LSEG.L</th>\n",
       "      <th>Date</th>\n",
       "      <th>BID</th>\n",
       "      <th>ASK</th>\n",
       "      <th>OPEN_PRC</th>\n",
       "      <th>HIGH_1</th>\n",
       "      <th>LOW_1</th>\n",
       "      <th>TRDPRC_1</th>\n",
       "      <th>NUM_MOVES</th>\n",
       "    </tr>\n",
       "  </thead>\n",
       "  <tbody>\n",
       "    <tr>\n",
       "      <th>0</th>\n",
       "      <td>2023-07-12</td>\n",
       "      <td>7986.0</td>\n",
       "      <td>7988.0</td>\n",
       "      <td>8024.0</td>\n",
       "      <td>8078.0</td>\n",
       "      <td>7976.0</td>\n",
       "      <td>8034.00000</td>\n",
       "      <td>4046.0</td>\n",
       "    </tr>\n",
       "    <tr>\n",
       "      <th>1</th>\n",
       "      <td>2023-07-13</td>\n",
       "      <td>8092.0</td>\n",
       "      <td>8094.0</td>\n",
       "      <td>8018.0</td>\n",
       "      <td>8108.0</td>\n",
       "      <td>7970.0</td>\n",
       "      <td>7987.66663</td>\n",
       "      <td>3731.0</td>\n",
       "    </tr>\n",
       "    <tr>\n",
       "      <th>2</th>\n",
       "      <td>2023-07-14</td>\n",
       "      <td>8288.0</td>\n",
       "      <td>8290.0</td>\n",
       "      <td>8070.0</td>\n",
       "      <td>8318.0</td>\n",
       "      <td>8070.0</td>\n",
       "      <td>8070.00000</td>\n",
       "      <td>3862.0</td>\n",
       "    </tr>\n",
       "    <tr>\n",
       "      <th>3</th>\n",
       "      <td>2023-07-17</td>\n",
       "      <td>8300.0</td>\n",
       "      <td>8302.0</td>\n",
       "      <td>8250.0</td>\n",
       "      <td>8322.0</td>\n",
       "      <td>8236.0</td>\n",
       "      <td>8296.00000</td>\n",
       "      <td>2033.0</td>\n",
       "    </tr>\n",
       "    <tr>\n",
       "      <th>4</th>\n",
       "      <td>2023-07-18</td>\n",
       "      <td>8306.0</td>\n",
       "      <td>8308.0</td>\n",
       "      <td>8344.0</td>\n",
       "      <td>8344.0</td>\n",
       "      <td>8266.0</td>\n",
       "      <td>8308.00000</td>\n",
       "      <td>3379.0</td>\n",
       "    </tr>\n",
       "  </tbody>\n",
       "</table>\n",
       "</div>"
      ],
      "text/plain": [
       "LSEG.L       Date     BID     ASK  OPEN_PRC  HIGH_1   LOW_1    TRDPRC_1  \\\n",
       "0      2023-07-12  7986.0  7988.0    8024.0  8078.0  7976.0  8034.00000   \n",
       "1      2023-07-13  8092.0  8094.0    8018.0  8108.0  7970.0  7987.66663   \n",
       "2      2023-07-14  8288.0  8290.0    8070.0  8318.0  8070.0  8070.00000   \n",
       "3      2023-07-17  8300.0  8302.0    8250.0  8322.0  8236.0  8296.00000   \n",
       "4      2023-07-18  8306.0  8308.0    8344.0  8344.0  8266.0  8308.00000   \n",
       "\n",
       "LSEG.L  NUM_MOVES  \n",
       "0          4046.0  \n",
       "1          3731.0  \n",
       "2          3862.0  \n",
       "3          2033.0  \n",
       "4          3379.0  "
      ]
     },
     "execution_count": 15,
     "metadata": {},
     "output_type": "execute_result"
    }
   ],
   "source": [
    "df_historical.reset_index(level=0, inplace=True)\n",
    "df_historical.head(5)"
   ]
  },
  {
   "cell_type": "markdown",
   "id": "3bbca89e-6c38-4796-91d4-a0e7545eefe6",
   "metadata": {},
   "source": [
    "Then sort data as ascending order."
   ]
  },
  {
   "cell_type": "code",
   "execution_count": 16,
   "id": "2c855218-cde3-4ba1-9ab3-1f5decc533c9",
   "metadata": {},
   "outputs": [],
   "source": [
    "# Sort DataFrame by Date\n",
    "df_historical.sort_values('Date',ascending=True,inplace=True)"
   ]
  },
  {
   "cell_type": "code",
   "execution_count": 17,
   "id": "29c511a8-b324-4d00-9f46-861e3e4a2712",
   "metadata": {},
   "outputs": [
    {
     "data": {
      "image/png": "[encoded data removed]",
      "text/plain": [
       "<Figure size 1400x700 with 1 Axes>"
      ]
     },
     "metadata": {},
     "output_type": "display_data"
    }
   ],
   "source": [
    "# Plotting a Graph\n",
    "\n",
    "columns = ['OPEN_PRC','HIGH_1','LOW_1','TRDPRC_1']\n",
    "\n",
    "df_historical.set_index('Date',drop=True,inplace=True)\n",
    "fig = plt.figure()\n",
    "\n",
    "\n",
    "plt.ticklabel_format(style = 'plain')\n",
    "plt.title(f'{universe} interday data for last 90 days', color='black',fontsize='x-large')\n",
    "ax = fig.gca()\n",
    "\n",
    "\n",
    "df_historical.plot(kind='line', ax = fig.gca(),y=columns,figsize=(14,7) )\n",
    "plt.show()"
   ]
  },
  {
   "cell_type": "markdown",
   "id": "c1de7af3-c88b-4b71-9a6e-9f421e99c4ac",
   "metadata": {},
   "source": [
    "We will put this graph at the end of the report table in the Excel sheet. The application can check the position of the last row of the report table with xlwings [end()](https://docs.xlwings.org/en/0.20.5/api.html#xlwings.Range.end) function.\n",
    "\n",
    "- The ```sheet.cells.last_cell``` statement returns lower right cell\n",
    "- The ```sheet.cells.last_cell.row``` statement returns row of the lower right cell"
   ]
  },
  {
   "cell_type": "code",
   "execution_count": 18,
   "id": "795164a7-21a9-4a42-a996-eacefcb1f741",
   "metadata": {},
   "outputs": [
    {
     "data": {
      "text/plain": [
       "32"
      ]
     },
     "execution_count": 18,
     "metadata": {},
     "output_type": "execute_result"
    }
   ],
   "source": [
    "# historical_sheet.cells.last_cell.row = row of the lower right cell\n",
    "\n",
    "'''\n",
    "change to your specified column, then go up until you hit a non-empty cell\n",
    "'''\n",
    "historical_last_row = historical_sheet.range((historical_sheet.cells.last_cell.row, 1)).end('up').row  \n",
    "historical_last_row\n",
    "\n",
    "#historical_last_row = historical_sheet.range('A' + str(historical_sheet.cells.last_cell.row)).end('up').row"
   ]
  },
  {
   "cell_type": "markdown",
   "id": "7ca0f8e8-5e76-497d-8e70-1e9a9778735f",
   "metadata": {},
   "source": [
    "Then, gets the position of the *last row of the table + 3 rows* cell. This makes a space between the data table and graph."
   ]
  },
  {
   "cell_type": "code",
   "execution_count": 19,
   "id": "4ba6fc0a-2079-4b3c-abf7-48cc8b75500e",
   "metadata": {},
   "outputs": [
    {
     "data": {
      "text/plain": [
       "<Range [Book1]LSEG.L Historical Data!$B$35>"
      ]
     },
     "execution_count": 19,
     "metadata": {},
     "output_type": "execute_result"
    }
   ],
   "source": [
    "rng = historical_sheet.range('B{row}'.format(row = historical_last_row + 3))\n",
    "rng"
   ]
  },
  {
   "cell_type": "markdown",
   "id": "874208e6-d57b-4833-bfe1-d6a9446042b2",
   "metadata": {},
   "source": [
    "Next, we add this figures as a picture to the xlwings CE sheet object with [pictures API](https://docs.xlwings.org/en/0.20.5/api.html#pictures)."
   ]
  },
  {
   "cell_type": "code",
   "execution_count": 20,
   "id": "2b96c5b2-812b-4afc-b8ec-a6c5266341fc",
   "metadata": {},
   "outputs": [
    {
     "data": {
      "text/plain": [
       "<Picture 'MyPlot' in <Sheet [Book1]LSEG.L Historical Data>>"
      ]
     },
     "execution_count": 20,
     "metadata": {},
     "output_type": "execute_result"
    }
   ],
   "source": [
    "historical_sheet.pictures.add(fig, name='MyPlot', update=True, top=rng.top, left=rng.left)"
   ]
  },
  {
   "cell_type": "markdown",
   "id": "90bdfe29-20a5-4b3d-9b84-d1288cf5fc70",
   "metadata": {},
   "source": [
    "The result is the following readable report table:\n",
    "\n",
    "![Figure-7](images/report_6.png \"graph is ready\") "
   ]
  },
  {
   "cell_type": "markdown",
   "id": "244dfe0b-5388-4e4b-b64b-b93cdb3b2648",
   "metadata": {},
   "source": [
    "## Adding new Excel Sheet\n",
    "\n",
    "We can create a new excel sheet and export data from RDP to that newly created sheet dynamically."
   ]
  },
  {
   "cell_type": "code",
   "execution_count": 21,
   "id": "6f1dbb98-5023-449e-9f46-32148805c5cd",
   "metadata": {},
   "outputs": [
    {
     "data": {
      "text/plain": [
       "<Sheet [Book1]LSEG.L News Data>"
      ]
     },
     "execution_count": 21,
     "metadata": {},
     "output_type": "execute_result"
    }
   ],
   "source": [
    "news_sheet_title = '%s News Data' % (universe)\n",
    "# Create new sheet for News Data\n",
    "wb.sheets.add(news_sheet_title)  "
   ]
  },
  {
   "cell_type": "markdown",
   "id": "0f19d9cb-c4be-46f3-889a-84ebf4bac846",
   "metadata": {},
   "source": [
    "The above xlwings statement creates a new sheet in your excel workbook. \n",
    "\n",
    "![Figure-8](images/report_7.png \"create new sheet\") \n",
    "\n",
    "Then you can get this newly created sheet object and export data to it. I will demonstrate with News data."
   ]
  },
  {
   "cell_type": "code",
   "execution_count": 22,
   "id": "09aa0ef3-f245-4f6e-81f9-c974c9378204",
   "metadata": {},
   "outputs": [
    {
     "data": {
      "text/html": [
       "<div>\n",
       "<style scoped>\n",
       "    .dataframe tbody tr th:only-of-type {\n",
       "        vertical-align: middle;\n",
       "    }\n",
       "\n",
       "    .dataframe tbody tr th {\n",
       "        vertical-align: top;\n",
       "    }\n",
       "\n",
       "    .dataframe thead th {\n",
       "        text-align: right;\n",
       "    }\n",
       "</style>\n",
       "<table border=\"1\" class=\"dataframe\">\n",
       "  <thead>\n",
       "    <tr style=\"text-align: right;\">\n",
       "      <th></th>\n",
       "      <th>headline</th>\n",
       "      <th>storyId</th>\n",
       "      <th>sourceCode</th>\n",
       "    </tr>\n",
       "    <tr>\n",
       "      <th>versionCreated</th>\n",
       "      <th></th>\n",
       "      <th></th>\n",
       "      <th></th>\n",
       "    </tr>\n",
       "  </thead>\n",
       "  <tbody>\n",
       "    <tr>\n",
       "      <th>2023-11-06 12:37:08.004</th>\n",
       "      <td>London Stock Exchange Group (LSEG: GBX8,300.0)...</td>\n",
       "      <td>urn:newsml:newsroom:20231106:nNRAql52rd:0</td>\n",
       "      <td>NS:GLOTRA</td>\n",
       "    </tr>\n",
       "    <tr>\n",
       "      <th>2023-11-06 12:27:01.178</th>\n",
       "      <td>London Stock Exchange Group (LSEG: GBX8,300.0)...</td>\n",
       "      <td>urn:newsml:newsroom:20231106:nNRAql4ydh:0</td>\n",
       "      <td>NS:GLOTRA</td>\n",
       "    </tr>\n",
       "    <tr>\n",
       "      <th>2023-11-06 12:26:41.534</th>\n",
       "      <td>London Stock Exchange Group (LSEG: GBX8,300.0)...</td>\n",
       "      <td>urn:newsml:newsroom:20231106:nNRAql4y8h:0</td>\n",
       "      <td>NS:GLOSTO</td>\n",
       "    </tr>\n",
       "  </tbody>\n",
       "</table>\n",
       "</div>"
      ],
      "text/plain": [
       "                                                                  headline  \\\n",
       "versionCreated                                                               \n",
       "2023-11-06 12:37:08.004  London Stock Exchange Group (LSEG: GBX8,300.0)...   \n",
       "2023-11-06 12:27:01.178  London Stock Exchange Group (LSEG: GBX8,300.0)...   \n",
       "2023-11-06 12:26:41.534  London Stock Exchange Group (LSEG: GBX8,300.0)...   \n",
       "\n",
       "                                                           storyId sourceCode  \n",
       "versionCreated                                                                 \n",
       "2023-11-06 12:37:08.004  urn:newsml:newsroom:20231106:nNRAql52rd:0  NS:GLOTRA  \n",
       "2023-11-06 12:27:01.178  urn:newsml:newsroom:20231106:nNRAql4ydh:0  NS:GLOTRA  \n",
       "2023-11-06 12:26:41.534  urn:newsml:newsroom:20231106:nNRAql4y8h:0  NS:GLOSTO  "
      ]
     },
     "execution_count": 22,
     "metadata": {},
     "output_type": "execute_result"
    }
   ],
   "source": [
    "# -- Requesting News Data\n",
    "\n",
    "from datetime import timedelta\n",
    "news_df = rd.news.get_headlines(universe, start=\"20.03.2021\", end=timedelta(days=-10), count=10)\n",
    "news_df.head(3)"
   ]
  },
  {
   "cell_type": "code",
   "execution_count": 23,
   "id": "d9f28265-f521-4b11-aae3-48cb97b07781",
   "metadata": {},
   "outputs": [],
   "source": [
    "# initiate the xlwings sheet object]\n",
    "news_sheet = wb.sheets[news_sheet_title]\n",
    "\n",
    "#Set Sheet Title\n",
    "news_sheet.range(\"A1\").value = f'{universe} News data'\n",
    "news_sheet.range(\"A1\").api.Font.Size = 14 # Change font size\n",
    "news_sheet.range(\"A1\").api.Font.ColorIndex = 2 # Change font color\n",
    "news_sheet.range('A1:U1').color = (0,0,255) # Change cell background color"
   ]
  },
  {
   "cell_type": "markdown",
   "id": "ab947646-c685-42f2-8264-87eef684e70f",
   "metadata": {},
   "source": [
    "The result is following:\n",
    "\n",
    "![Figure-9](images/report_8.png \"set NEws sheet header\") \n",
    "\n",
    "Then we export DataFrame ```news_df``` object to News sheet ```news_sheet``` object."
   ]
  },
  {
   "cell_type": "code",
   "execution_count": 24,
   "id": "b85a0c99-9cc7-49e3-8016-9ae67c692d39",
   "metadata": {},
   "outputs": [],
   "source": [
    "news_sheet.range(\"A2\").options(index=False).value = news_df\n",
    "\n",
    "news_sheet.range('2:1').api.Font.Bold = True\n",
    "news_sheet.range('A2:U2').color = (144,238,144) # Change cell background color"
   ]
  },
  {
   "cell_type": "markdown",
   "id": "2e9f6089-52cd-4b91-a95f-da07191a5029",
   "metadata": {},
   "source": [
    "![Figure-10](images/report_9.png \"set ESG report data\") "
   ]
  },
  {
   "cell_type": "markdown",
   "id": "dc44db59-af9f-4928-a616-a347cded01d3",
   "metadata": {},
   "source": [
    "Then we save this excel file with xlwings ```Book``` object ```save()``` function."
   ]
  },
  {
   "cell_type": "code",
   "execution_count": 25,
   "id": "41900245-280c-4b80-9ee4-8e95d1c8211d",
   "metadata": {},
   "outputs": [],
   "source": [
    "wb.save('rdp_report.xlsx') # Classic Jupyter Notebook\n",
    "\n",
    "# wb.save() # Note: Somehow the Jupyter Lab is not allow overriden file as Classic Notebook."
   ]
  },
  {
   "cell_type": "markdown",
   "id": "e3858311-c4df-43bf-baec-6c793701ee28",
   "metadata": {},
   "source": [
    "## Reporting with xlwings PRO\n",
    "\n",
    "The above example source code shows that you can create an excel report file from Refinitiv Data easily with xlwings CE API. However, the Python application source code is a combination of formatting the report's look & feel and handling the data which makes the source code difficult to maintain in the long run.\n",
    "\n",
    "The [xlwings PRO ](https://www.xlwings.org/pro) has features to solve all of CE version limitations. The [xlwings Reports](https://www.xlwings.org/reporting) provides a capability to generate excel report file with the following features:\n",
    "- **Separation of code and design**: Users without coding skills can change the template on their own without having to touch the Python code.\n",
    "- **Template variables**: Python variables (between curly braces) can be directly used in cells, e.g. ```{{ title }}```. They act as placeholders that will be replaced by the actual values.\n",
    "- **Frames for dynamic tables**: Frames are vertical containers that dynamically align and style tables that have a variable number of rows.\n",
    "\n",
    "You can get a free trial for xlwings PRO [here](https://docs.xlwings.org/en/latest/pro/license_key.html), then follow the instruction on [How to activate xlwings PRO](https://docs.xlwings.org/en/stable/installation.html#how-to-activate-xlwings-pro) page.\n",
    "\n",
    "\n",
    "\n",
    "Now let import the report package from xlwings PRO."
   ]
  },
  {
   "cell_type": "code",
   "execution_count": 26,
   "id": "d83d37ec-6212-4690-812b-c030836a7229",
   "metadata": {},
   "outputs": [],
   "source": [
    "# #uncomment if you do not already install xlwings PRO package.\n",
    "\n",
    "# #Install xlwings PRO packages in a current Jupyter kernal\n",
    "#import sys\n",
    "#!{sys.executable} -m pip install \"xlwings[all]\""
   ]
  },
  {
   "cell_type": "code",
   "execution_count": 27,
   "id": "178291b0-87f5-4ad0-8de9-a540640d604c",
   "metadata": {},
   "outputs": [
    {
     "ename": "ImportError",
     "evalue": "You are using a legacy xlwings license key that requires the 'cryptography' package. Either install it via 'pip install cryptography' or contact us for a new license key that doesn't depend on cryptography.",
     "output_type": "error",
     "traceback": [
      "\u001b[1;31m---------------------------------------------------------------------------\u001b[0m",
      "\u001b[1;31mImportError\u001b[0m                               Traceback (most recent call last)",
      "Cell \u001b[1;32mIn[27], line 1\u001b[0m\n\u001b[1;32m----> 1\u001b[0m \u001b[38;5;28;01mfrom\u001b[39;00m \u001b[38;5;21;01mxlwings\u001b[39;00m\u001b[38;5;21;01m.\u001b[39;00m\u001b[38;5;21;01mpro\u001b[39;00m\u001b[38;5;21;01m.\u001b[39;00m\u001b[38;5;21;01mreports\u001b[39;00m \u001b[38;5;28;01mimport\u001b[39;00m create_report\n",
      "File \u001b[1;32mC:\\drive_d\\compilers\\Miniconda3\\envs\\xlwingspro_rdlib\\lib\\site-packages\\xlwings\\pro\\__init__.py:14\u001b[0m\n\u001b[0;32m      1\u001b[0m \u001b[38;5;124;03m\"\"\"\u001b[39;00m\n\u001b[0;32m      2\u001b[0m \u001b[38;5;124;03mRequired Notice: Copyright (C) Zoomer Analytics GmbH.\u001b[39;00m\n\u001b[0;32m      3\u001b[0m \n\u001b[1;32m   (...)\u001b[0m\n\u001b[0;32m     11\u001b[0m \u001b[38;5;124;03mCommercial licenses can be purchased at https://www.xlwings.org\u001b[39;00m\n\u001b[0;32m     12\u001b[0m \u001b[38;5;124;03m\"\"\"\u001b[39;00m\n\u001b[1;32m---> 14\u001b[0m \u001b[38;5;28;01mfrom\u001b[39;00m \u001b[38;5;21;01m.\u001b[39;00m\u001b[38;5;21;01membedded_code\u001b[39;00m \u001b[38;5;28;01mimport\u001b[39;00m dump_embedded_code, runpython_embedded_code\n\u001b[0;32m     15\u001b[0m \u001b[38;5;28;01mfrom\u001b[39;00m \u001b[38;5;21;01m.\u001b[39;00m\u001b[38;5;21;01mmodule_permissions\u001b[39;00m \u001b[38;5;28;01mimport\u001b[39;00m verify_execute_permission\n\u001b[0;32m     16\u001b[0m \u001b[38;5;28;01mfrom\u001b[39;00m \u001b[38;5;21;01m.\u001b[39;00m\u001b[38;5;21;01mreports\u001b[39;00m \u001b[38;5;28;01mimport\u001b[39;00m Markdown, MarkdownStyle\n",
      "File \u001b[1;32mC:\\drive_d\\compilers\\Miniconda3\\envs\\xlwingspro_rdlib\\lib\\site-packages\\xlwings\\pro\\embedded_code.py:25\u001b[0m\n\u001b[0;32m     22\u001b[0m \u001b[38;5;28;01mfrom\u001b[39;00m \u001b[38;5;21;01m.\u001b[39;00m\u001b[38;5;21;01mmodule_permissions\u001b[39;00m \u001b[38;5;28;01mimport\u001b[39;00m verify_execute_permission\n\u001b[0;32m     23\u001b[0m \u001b[38;5;28;01mfrom\u001b[39;00m \u001b[38;5;21;01m.\u001b[39;00m\u001b[38;5;21;01mutils\u001b[39;00m \u001b[38;5;28;01mimport\u001b[39;00m LicenseHandler, get_embedded_code_temp_dir\n\u001b[1;32m---> 25\u001b[0m \u001b[43mLicenseHandler\u001b[49m\u001b[38;5;241;43m.\u001b[39;49m\u001b[43mvalidate_license\u001b[49m\u001b[43m(\u001b[49m\u001b[38;5;124;43m\"\u001b[39;49m\u001b[38;5;124;43mpro\u001b[39;49m\u001b[38;5;124;43m\"\u001b[39;49m\u001b[43m)\u001b[49m\n\u001b[0;32m     27\u001b[0m TEMPDIR \u001b[38;5;241m=\u001b[39m get_embedded_code_temp_dir()\n\u001b[0;32m     30\u001b[0m \u001b[38;5;129m@lru_cache\u001b[39m()\n\u001b[0;32m     31\u001b[0m \u001b[38;5;28;01mdef\u001b[39;00m \u001b[38;5;21mdump_embedded_code\u001b[39m(book, target_dir):\n",
      "File \u001b[1;32mC:\\drive_d\\compilers\\Miniconda3\\envs\\xlwingspro_rdlib\\lib\\site-packages\\xlwings\\pro\\utils.py:85\u001b[0m, in \u001b[0;36mLicenseHandler.validate_license\u001b[1;34m(product, license_type)\u001b[0m\n\u001b[0;32m     82\u001b[0m     \u001b[38;5;28;01mreturn\u001b[39;00m {\u001b[38;5;124m\"\u001b[39m\u001b[38;5;124mlicense_type\u001b[39m\u001b[38;5;124m\"\u001b[39m: \u001b[38;5;124m\"\u001b[39m\u001b[38;5;124mnoncommercial\u001b[39m\u001b[38;5;124m\"\u001b[39m}\n\u001b[0;32m     83\u001b[0m \u001b[38;5;28;01mif\u001b[39;00m key\u001b[38;5;241m.\u001b[39mstartswith(\u001b[38;5;124m\"\u001b[39m\u001b[38;5;124mgA\u001b[39m\u001b[38;5;124m\"\u001b[39m) \u001b[38;5;129;01mand\u001b[39;00m \u001b[38;5;129;01mnot\u001b[39;00m Fernet:\n\u001b[0;32m     84\u001b[0m     \u001b[38;5;66;03m# Legacy up to 0.27.12\u001b[39;00m\n\u001b[1;32m---> 85\u001b[0m     \u001b[38;5;28;01mraise\u001b[39;00m \u001b[38;5;167;01mImportError\u001b[39;00m(\n\u001b[0;32m     86\u001b[0m         \u001b[38;5;124m\"\u001b[39m\u001b[38;5;124mYou are using a legacy xlwings license key that requires the \u001b[39m\u001b[38;5;124m\"\u001b[39m\n\u001b[0;32m     87\u001b[0m         \u001b[38;5;124m\"\u001b[39m\u001b[38;5;124m'\u001b[39m\u001b[38;5;124mcryptography\u001b[39m\u001b[38;5;124m'\u001b[39m\u001b[38;5;124m package. Either install it via \u001b[39m\u001b[38;5;124m'\u001b[39m\u001b[38;5;124mpip install \u001b[39m\u001b[38;5;124m\"\u001b[39m\n\u001b[0;32m     88\u001b[0m         \u001b[38;5;124m\"\u001b[39m\u001b[38;5;124mcryptography\u001b[39m\u001b[38;5;124m'\u001b[39m\u001b[38;5;124m or contact us for a new license key that doesn\u001b[39m\u001b[38;5;124m'\u001b[39m\u001b[38;5;124mt depend \u001b[39m\u001b[38;5;124m\"\u001b[39m\n\u001b[0;32m     89\u001b[0m         \u001b[38;5;124m\"\u001b[39m\u001b[38;5;124mon cryptography.\u001b[39m\u001b[38;5;124m\"\u001b[39m\n\u001b[0;32m     90\u001b[0m     ) \u001b[38;5;28;01mfrom\u001b[39;00m \u001b[38;5;28;01mNone\u001b[39;00m\n\u001b[0;32m     91\u001b[0m \u001b[38;5;28;01melif\u001b[39;00m key\u001b[38;5;241m.\u001b[39mstartswith(\u001b[38;5;124m\"\u001b[39m\u001b[38;5;124mgA\u001b[39m\u001b[38;5;124m\"\u001b[39m):\n\u001b[0;32m     92\u001b[0m     cipher_suite \u001b[38;5;241m=\u001b[39m LicenseHandler\u001b[38;5;241m.\u001b[39mget_cipher()\n",
      "\u001b[1;31mImportError\u001b[0m: You are using a legacy xlwings license key that requires the 'cryptography' package. Either install it via 'pip install cryptography' or contact us for a new license key that doesn't depend on cryptography."
     ]
    }
   ],
   "source": [
    "from xlwings.pro.reports import create_report"
   ]
  },
  {
   "cell_type": "code",
   "execution_count": null,
   "id": "6e6f76a2-c45a-4926-8b1a-52e9aeeafb8e",
   "metadata": {},
   "outputs": [],
   "source": []
  }
 ],
 "metadata": {
  "kernelspec": {
   "display_name": "Python 3 (ipykernel)",
   "language": "python",
   "name": "python3"
  },
  "language_info": {
   "codemirror_mode": {
    "name": "ipython",
    "version": 3
   },
   "file_extension": ".py",
   "mimetype": "text/x-python",
   "name": "python",
   "nbconvert_exporter": "python",
   "pygments_lexer": "ipython3",
   "version": "3.10.13"
  }
 },
 "nbformat": 4,
 "nbformat_minor": 5
}
