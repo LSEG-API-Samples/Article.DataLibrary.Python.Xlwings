{
 "cells": [
  {
   "cell_type": "markdown",
   "id": "40513ca9-b953-4085-92b0-ed06ebf58e59",
   "metadata": {},
   "source": [
    "# How to integrate Financial Data from LSEG to Excel with Xlwings - Part 1\n",
    "\n",
    "**Last Updated**: February 2025\n",
    "\n",
    "## Overview\n",
    "\n",
    "With the rise of Data Scientists, Financial coders or Traders (aka Citizen Developers), and the rapid growth of [Jupyter](https://jupyter.org/) application, the main target of every Citizen Developer is replacing [Microsoft Excel](https://www.microsoft.com/en-us/microsoft-365/excel) with the Jupyter application (reference: [Jupyter is the new Excel](https://towardsdatascience.com/jupyter-is-the-new-excel-a7a22f2fc13a)).\n",
    "\n",
    "However, Excel is not obsolete and is still an important file-format/application for businesses. It is easy to distribute, and non-IT people (especially your boss) can open it easily rather than having to set up the Jupyter/Python environment.\n",
    "\n",
    "This article is the first part of the series that demonstrate how to export financial data and report from Python/Jupyter application to Excel report file using xlwings CE and xlwings Pro libraries. The demo application uses content from LSEG Workspace platform via the ease-of-use [LSEG Data Library for Python](https://developers.lseg.com/en/api-catalog/lseg-data-platform/lseg-data-library-for-python) (Data Library version 2) as an example of data set."
   ]
  },
  {
   "cell_type": "markdown",
   "id": "c74ba72d-f8df-452d-b80c-86a66f5af48f",
   "metadata": {},
   "source": [
    "## Introduction to xlwings\n",
    "\n",
    "[xlwings](https://www.xlwings.org) is a Python library that makes it easy to call Python from Excel and vice versa on Windows and macOS. The library lets you automate Excel from Python source code to produce reports or to interact with Jupyter notebook applications. It also allows you to replace VBA macros with Python Code or write UDFs (user defined functions - Windows only).\n",
    "* The [xlwings CE](https://docs.xlwings.org/en/stable) is a free and open-source library ([BSD-licensed](https://opensource.org/licenses/BSD-3-Clause)) which provides basic functionalities to lets developers integrate Python with Excel. \n",
    "* The [xlwings PRO](https://www.xlwings.org/pricing) provides more advance features such as [reports](https://www.xlwings.org/reporting), embedded Python code in Excel, one-click installers for easy deployment, video training, dedicated support and much more. \n",
    " \n",
    "\n",
    "*Note*:\n",
    "- This notebook is based on xlwings version **0.33.9** and Python 3.10.10."
   ]
  },
  {
   "cell_type": "markdown",
   "id": "4469d4d8-7bf0-44ea-a6c2-df082f30b027",
   "metadata": {},
   "source": [
    "## Introduction to the Data Library for Python\n",
    "\n",
    "The [Data Library for Python](https://developers.lseg.com/en/api-catalog/lseg-data-platform/lseg-data-library-for-python) provides a set of ease-of-use interfaces offering coders uniform access to the breadth and depth of financial data and services available on the Workspace, RDP, and Real-Time Platforms. The API is designed to provide consistent access through multiple access channels and target both Professional Developers and Financial Coders. Developers can choose to access content from the desktop, through their deployed streaming services, or directly to the cloud. With the Data Library, the same Python code can be used to retrieve data regardless of which access point you choose to connect to the platform.\n",
    "\n",
    "\n",
    "![Figure-1](images/datalib_image.png \"Data Library Diagram\") \n",
    "\n",
    "The Data Library are available in the following programming languages:\n",
    "\n",
    "- [Python](https://developers.lseg.com/en/api-catalog/lseg-data-platform/lseg-data-library-for-python)\n",
    "- [.NET](https://developers.lseg.com/en/api-catalog/lseg-data-platform/lseg-data-library-for-net)\n",
    "- [TypeScript](https://developers.lseg.com/en/api-catalog/lseg-data-platform/lseg-data-library-for-typescript)\n",
    "\n",
    "For more deep detail regarding the Data Library for Python, please refer to the following articles and tutorials:\n",
    "\n",
    "- [Quickstart](https://developers.lseg.com/en/api-catalog/lseg-data-platform/lseg-data-library-for-python/quick-start).\n",
    "- [Documentation](https://developers.lseg.com/en/api-catalog/lseg-data-platform/lseg-data-library-for-python/documentation).\n",
    "- [Tutorials](https://developers.lseg.com/en/api-catalog/lseg-data-platform/lseg-data-library-for-python/tutorials).\n",
    "- [GitHub](https://github.com/LSEG-API-Samples/Example.DataLibrary.Python).\n",
    "\n",
    "\n",
    "### Disclaimer\n",
    "\n",
    "This project is based on Data Library Python versions **2.0.1** using the Desktop Session only.\n",
    "\n",
    "## Code Walkthrough\n",
    "\n",
    "Let start with xlwings CE first. The application needs to import ```xlwings``` and ```lseg.data``` packages in order to interact with xlwings CE and LD library."
   ]
  },
  {
   "cell_type": "code",
   "execution_count": 1,
   "id": "a4c0e735-bd3f-40de-9bff-a2dd525fad9c",
   "metadata": {},
   "outputs": [],
   "source": [
    "# import xlwings and LD library\n",
    "import xlwings as xw\n",
    "import lseg.data as ld\n",
    "import matplotlib.pyplot as plt"
   ]
  },
  {
   "cell_type": "markdown",
   "id": "eaa4879f-1f41-447c-8a30-a39a41912d0c",
   "metadata": {},
   "source": [
    "The next step is to open a session defined in a custom configuration file.\n",
    "\n",
    "This Jupyter Notebook is focusing on the *DesktopSession* only. However, the main logic for other session types are the same when interacts with xlwings library."
   ]
  },
  {
   "cell_type": "markdown",
   "id": "a9cc9ad3-87d8-4814-9cb7-0846ba6d362c",
   "metadata": {},
   "source": [
    "You should save a json file **lseg-data.config.json** having your Workspace App Key as follows:\n",
    "\n",
    "```json\n",
    "{\n",
    "    \"logs\": {\n",
    "        \"level\": \"debug\",\n",
    "        \"transports\": {\n",
    "            \"console\": {\n",
    "                \"enabled\": false\n",
    "            },\n",
    "            \"file\": {\n",
    "                \"enabled\": false,\n",
    "                \"name\": \"lseg-data-lib.log\"\n",
    "            }\n",
    "        }\n",
    "    },\n",
    "    \"sessions\": {\n",
    "        \"default\": \"desktop.workspace\",\n",
    "        \"desktop\": {\n",
    "            \"workspace\": {\n",
    "                \"app-key\": \"YOUR APP KEY GOES HERE!\"\n",
    "            }\n",
    "        }\n",
    "    }\n",
    "}\n",
    "```\n",
    "This file should be readily available (e.g. in the current working directory) for the next steps."
   ]
  },
  {
   "cell_type": "code",
   "execution_count": null,
   "id": "fcbb9c8a-03e3-4bd8-ab60-a97918a00cc5",
   "metadata": {},
   "outputs": [
    {
     "data": {
      "text/plain": [
       "<lseg.data.session.Definition object at 0x142f68e5210 {name='workspace'}>"
      ]
     },
     "execution_count": 2,
     "metadata": {},
     "output_type": "execute_result"
    }
   ],
   "source": [
    "ld.open_session(config_name='./lseg-data.config.json')\n",
    "#ld.open_session(config_name='./lseg-data.devrel.config.json')"
   ]
  },
  {
   "cell_type": "markdown",
   "id": "f8737e7c-2bbc-4cca-8ee9-ec484ea1c6d0",
   "metadata": {},
   "source": [
    "Firstly, we will use Data Library to request time-series data as a [Pandas DataFrame](https://pandas.pydata.org/pandas-docs/stable/reference/api/pandas.DataFrame.html) object. "
   ]
  },
  {
   "cell_type": "code",
   "execution_count": 3,
   "id": "0cbbe4e7-53a2-4c0d-b081-943a6c1edadd",
   "metadata": {},
   "outputs": [],
   "source": [
    "# Declare parameter(s)\n",
    "universe = 'LSEG.L'\n",
    "historical_title = '%s Historical Data' % (universe)\n",
    "columns = ['OPEN_PRC','HIGH_1','LOW_1','TRDPRC_1']"
   ]
  },
  {
   "cell_type": "code",
   "execution_count": 4,
   "id": "c8953f74-5ba6-4b0b-afe5-bfc8ea918551",
   "metadata": {},
   "outputs": [
    {
     "data": {
      "text/html": [
       "<div>\n",
       "<style scoped>\n",
       "    .dataframe tbody tr th:only-of-type {\n",
       "        vertical-align: middle;\n",
       "    }\n",
       "\n",
       "    .dataframe tbody tr th {\n",
       "        vertical-align: top;\n",
       "    }\n",
       "\n",
       "    .dataframe thead th {\n",
       "        text-align: right;\n",
       "    }\n",
       "</style>\n",
       "<table border=\"1\" class=\"dataframe\">\n",
       "  <thead>\n",
       "    <tr style=\"text-align: right;\">\n",
       "      <th>LSEG.L</th>\n",
       "      <th>BID</th>\n",
       "      <th>ASK</th>\n",
       "      <th>OPEN_PRC</th>\n",
       "      <th>HIGH_1</th>\n",
       "      <th>LOW_1</th>\n",
       "      <th>TRDPRC_1</th>\n",
       "      <th>NUM_MOVES</th>\n",
       "    </tr>\n",
       "    <tr>\n",
       "      <th>Date</th>\n",
       "      <th></th>\n",
       "      <th></th>\n",
       "      <th></th>\n",
       "      <th></th>\n",
       "      <th></th>\n",
       "      <th></th>\n",
       "      <th></th>\n",
       "    </tr>\n",
       "  </thead>\n",
       "  <tbody>\n",
       "    <tr>\n",
       "      <th>2024-10-16</th>\n",
       "      <td>10320</td>\n",
       "      <td>10325</td>\n",
       "      <td>10280</td>\n",
       "      <td>10370</td>\n",
       "      <td>10280.0</td>\n",
       "      <td>10280.0</td>\n",
       "      <td>3039</td>\n",
       "    </tr>\n",
       "    <tr>\n",
       "      <th>2024-10-17</th>\n",
       "      <td>10490</td>\n",
       "      <td>10495</td>\n",
       "      <td>10350</td>\n",
       "      <td>10520</td>\n",
       "      <td>10340.0</td>\n",
       "      <td>10448.38</td>\n",
       "      <td>3732</td>\n",
       "    </tr>\n",
       "    <tr>\n",
       "      <th>2024-10-18</th>\n",
       "      <td>10530</td>\n",
       "      <td>10535</td>\n",
       "      <td>10410</td>\n",
       "      <td>10535</td>\n",
       "      <td>10365.0</td>\n",
       "      <td>10410.0</td>\n",
       "      <td>2931</td>\n",
       "    </tr>\n",
       "    <tr>\n",
       "      <th>2024-10-21</th>\n",
       "      <td>10615</td>\n",
       "      <td>10620</td>\n",
       "      <td>10560</td>\n",
       "      <td>10670</td>\n",
       "      <td>10560.0</td>\n",
       "      <td>10560.0</td>\n",
       "      <td>4459</td>\n",
       "    </tr>\n",
       "    <tr>\n",
       "      <th>2024-10-22</th>\n",
       "      <td>10515</td>\n",
       "      <td>10520</td>\n",
       "      <td>10585</td>\n",
       "      <td>10600</td>\n",
       "      <td>10440.0</td>\n",
       "      <td>10505.0</td>\n",
       "      <td>2054</td>\n",
       "    </tr>\n",
       "    <tr>\n",
       "      <th>...</th>\n",
       "      <td>...</td>\n",
       "      <td>...</td>\n",
       "      <td>...</td>\n",
       "      <td>...</td>\n",
       "      <td>...</td>\n",
       "      <td>...</td>\n",
       "      <td>...</td>\n",
       "    </tr>\n",
       "    <tr>\n",
       "      <th>2025-02-17</th>\n",
       "      <td>11720</td>\n",
       "      <td>11725</td>\n",
       "      <td>11755</td>\n",
       "      <td>11760</td>\n",
       "      <td>11635.0</td>\n",
       "      <td>11716.93</td>\n",
       "      <td>2242</td>\n",
       "    </tr>\n",
       "    <tr>\n",
       "      <th>2025-02-18</th>\n",
       "      <td>11690</td>\n",
       "      <td>11695</td>\n",
       "      <td>11720</td>\n",
       "      <td>11755</td>\n",
       "      <td>11650.0</td>\n",
       "      <td>11685.8988</td>\n",
       "      <td>2838</td>\n",
       "    </tr>\n",
       "    <tr>\n",
       "      <th>2025-02-19</th>\n",
       "      <td>11705</td>\n",
       "      <td>11710</td>\n",
       "      <td>11660</td>\n",
       "      <td>11795</td>\n",
       "      <td>11625.0</td>\n",
       "      <td>11685.0</td>\n",
       "      <td>3747</td>\n",
       "    </tr>\n",
       "    <tr>\n",
       "      <th>2025-02-20</th>\n",
       "      <td>11695</td>\n",
       "      <td>11700</td>\n",
       "      <td>11755</td>\n",
       "      <td>11755</td>\n",
       "      <td>11645.0</td>\n",
       "      <td>11685.0</td>\n",
       "      <td>3767</td>\n",
       "    </tr>\n",
       "    <tr>\n",
       "      <th>2025-02-21</th>\n",
       "      <td>11585</td>\n",
       "      <td>11590</td>\n",
       "      <td>11685</td>\n",
       "      <td>11705</td>\n",
       "      <td>11565.0</td>\n",
       "      <td>11600.0</td>\n",
       "      <td>4032</td>\n",
       "    </tr>\n",
       "  </tbody>\n",
       "</table>\n",
       "<p>90 rows × 7 columns</p>\n",
       "</div>"
      ],
      "text/plain": [
       "LSEG.L        BID    ASK  OPEN_PRC  HIGH_1    LOW_1    TRDPRC_1  NUM_MOVES\n",
       "Date                                                                      \n",
       "2024-10-16  10320  10325     10280   10370  10280.0     10280.0       3039\n",
       "2024-10-17  10490  10495     10350   10520  10340.0    10448.38       3732\n",
       "2024-10-18  10530  10535     10410   10535  10365.0     10410.0       2931\n",
       "2024-10-21  10615  10620     10560   10670  10560.0     10560.0       4459\n",
       "2024-10-22  10515  10520     10585   10600  10440.0     10505.0       2054\n",
       "...           ...    ...       ...     ...      ...         ...        ...\n",
       "2025-02-17  11720  11725     11755   11760  11635.0    11716.93       2242\n",
       "2025-02-18  11690  11695     11720   11755  11650.0  11685.8988       2838\n",
       "2025-02-19  11705  11710     11660   11795  11625.0     11685.0       3747\n",
       "2025-02-20  11695  11700     11755   11755  11645.0     11685.0       3767\n",
       "2025-02-21  11585  11590     11685   11705  11565.0     11600.0       4032\n",
       "\n",
       "[90 rows x 7 columns]"
      ]
     },
     "execution_count": 4,
     "metadata": {},
     "output_type": "execute_result"
    }
   ],
   "source": [
    "df_historical = ld.get_history(\n",
    "    universe=[universe], \n",
    "    fields=['BID','ASK','OPEN_PRC','HIGH_1','LOW_1','TRDPRC_1','NUM_MOVES'], \n",
    "    interval='1D',\n",
    "    count = 90\n",
    ")\n",
    "df_historical"
   ]
  },
  {
   "cell_type": "markdown",
   "id": "dff97b3a-3956-4fda-a936-19885df15b1f",
   "metadata": {},
   "source": [
    "### Interact with xlwings CE\n",
    "\n",
    "With xlwings, we can export this ```df_historical``` DataFrame to excel directly.\n",
    "\n",
    "The first step is initiate xlwings object and establish a connection to a workbook."
   ]
  },
  {
   "cell_type": "code",
   "execution_count": 5,
   "id": "9e27f4b9-1cd3-4da7-a909-3c6c50a0bf5e",
   "metadata": {},
   "outputs": [],
   "source": [
    "wb = xw.Book() # Creating an new excel file. wb = xw.Book(filename) would open an existing file"
   ]
  },
  {
   "cell_type": "markdown",
   "id": "5ffbe95d-b256-4a64-a055-1511b5646318",
   "metadata": {},
   "source": [
    "The above step initiates xlwings workbook class in ```wb``` object. The ```wb = xw.Book()``` statement creates a new excel file. If you are using ```wb = xw.Book(filename)```, the xlwings will open an existing file.\n",
    "\n",
    "![Figure-2](images/report_1.png \"create a blank excel workbook\") \n",
    "\n",
    "Next, instantiate the xlwings [sheet object](https://docs.xlwings.org/en/stable/api.html#sheet). The application will interact with Excel file mostly via this sheet object."
   ]
  },
  {
   "cell_type": "code",
   "execution_count": 6,
   "id": "518ea79f-89de-4f0d-b7ee-67f044f9b827",
   "metadata": {},
   "outputs": [],
   "source": [
    "# Select the first excel sheet, and rename it\n",
    "\n",
    "historical_sheet = wb.sheets[0]\n",
    "historical_sheet.name = historical_title"
   ]
  },
  {
   "cell_type": "markdown",
   "id": "3a611e29-8f59-4d71-99d1-5750d169f5e5",
   "metadata": {},
   "source": [
    "![Figure-3](images/report_2_rename_sheet.png \"rename workbook\") "
   ]
  },
  {
   "cell_type": "markdown",
   "id": "ef033a59-3a2b-4d0d-9e3e-ef4fa1019cbb",
   "metadata": {},
   "source": [
    "Then you can just pass your dataframe object to ```sheet.range(<cell>).value``` property to set Pandas DataFrame to Excel directly."
   ]
  },
  {
   "cell_type": "code",
   "execution_count": 7,
   "id": "5008ab46-8c9e-4b08-ae80-75a0f2ab2119",
   "metadata": {},
   "outputs": [],
   "source": [
    "# Set historical_sheet dataframe to cell A1\n",
    "\n",
    "historical_sheet.range(\"A1\").value = df_historical.head(30)"
   ]
  },
  {
   "cell_type": "markdown",
   "id": "2827538c-a6f9-43fa-8b83-6deba8a5dc1a",
   "metadata": {},
   "source": [
    "![Figure-4](images/report_3_dataframe.png \"add data as is\") "
   ]
  },
  {
   "cell_type": "markdown",
   "id": "5ed209f6-a4be-4a6d-8660-6a0452fd3bb1",
   "metadata": {},
   "source": [
    "That is, the application is ready to get and export LSEG Data to an Excel file.\n",
    "\n",
    "The above example shows how to export data \"as is\" which often hard to read. The application can use xlwings API to customize excel report look and feel, and then customize Pandas DataFrame to make data easier to understand."
   ]
  },
  {
   "cell_type": "code",
   "execution_count": 8,
   "id": "8273c661-ab85-4ce9-8f8a-2511c4155483",
   "metadata": {},
   "outputs": [],
   "source": [
    "# Clear current sheet\n",
    "historical_sheet.clear()"
   ]
  },
  {
   "cell_type": "markdown",
   "id": "e9b2b242-8c48-41b3-9d1f-b75268c770d5",
   "metadata": {},
   "source": [
    "Then we use xlwings ```Sheet``` object and its ```api``` property to change report look and feel.\n",
    "\n",
    "*Note*:\n",
    "The xlwings ```api``` property supports Windows only. For MacOS, please refer to [this page](https://docs.xlwings.org/en/stable/missing_features.html)."
   ]
  },
  {
   "cell_type": "code",
   "execution_count": 9,
   "id": "2538eaee-13bf-4076-9dc3-4b91c6b8a84f",
   "metadata": {},
   "outputs": [],
   "source": [
    "historical_sheet.range(\"A1\").value = historical_title\n",
    "historical_sheet.range(\"A1\").api.Font.Size = 14 # Change font size\n",
    "historical_sheet.range(\"A1\").api.Font.ColorIndex = 2 # Change font color\n",
    "historical_sheet.range('A1:H1').color = (0,0,255) # Change cell background color"
   ]
  },
  {
   "cell_type": "markdown",
   "id": "2a7c0b27-bba2-408b-90b4-ef9dd3f426aa",
   "metadata": {},
   "source": [
    "The above statements create the following excel  report look and feel.\n",
    "\n",
    "![Figure-5](images/report_4.png \"set title and header\") \n",
    "\n",
    "We can restructure the ```df_historical``` DataFrame to make it easier to read by naming the index column to \"Date\""
   ]
  },
  {
   "cell_type": "code",
   "execution_count": 10,
   "id": "e4e5ab8e-ba0b-4d41-902f-52461d29ca6f",
   "metadata": {},
   "outputs": [
    {
     "data": {
      "text/html": [
       "<div>\n",
       "<style scoped>\n",
       "    .dataframe tbody tr th:only-of-type {\n",
       "        vertical-align: middle;\n",
       "    }\n",
       "\n",
       "    .dataframe tbody tr th {\n",
       "        vertical-align: top;\n",
       "    }\n",
       "\n",
       "    .dataframe thead th {\n",
       "        text-align: right;\n",
       "    }\n",
       "</style>\n",
       "<table border=\"1\" class=\"dataframe\">\n",
       "  <thead>\n",
       "    <tr style=\"text-align: right;\">\n",
       "      <th>LSEG.L</th>\n",
       "      <th>BID</th>\n",
       "      <th>ASK</th>\n",
       "      <th>OPEN_PRC</th>\n",
       "      <th>HIGH_1</th>\n",
       "      <th>LOW_1</th>\n",
       "      <th>TRDPRC_1</th>\n",
       "      <th>NUM_MOVES</th>\n",
       "    </tr>\n",
       "    <tr>\n",
       "      <th>Date</th>\n",
       "      <th></th>\n",
       "      <th></th>\n",
       "      <th></th>\n",
       "      <th></th>\n",
       "      <th></th>\n",
       "      <th></th>\n",
       "      <th></th>\n",
       "    </tr>\n",
       "  </thead>\n",
       "  <tbody>\n",
       "    <tr>\n",
       "      <th>2024-10-16</th>\n",
       "      <td>10320</td>\n",
       "      <td>10325</td>\n",
       "      <td>10280</td>\n",
       "      <td>10370</td>\n",
       "      <td>10280.0</td>\n",
       "      <td>10280.0</td>\n",
       "      <td>3039</td>\n",
       "    </tr>\n",
       "    <tr>\n",
       "      <th>2024-10-17</th>\n",
       "      <td>10490</td>\n",
       "      <td>10495</td>\n",
       "      <td>10350</td>\n",
       "      <td>10520</td>\n",
       "      <td>10340.0</td>\n",
       "      <td>10448.38</td>\n",
       "      <td>3732</td>\n",
       "    </tr>\n",
       "    <tr>\n",
       "      <th>2024-10-18</th>\n",
       "      <td>10530</td>\n",
       "      <td>10535</td>\n",
       "      <td>10410</td>\n",
       "      <td>10535</td>\n",
       "      <td>10365.0</td>\n",
       "      <td>10410.0</td>\n",
       "      <td>2931</td>\n",
       "    </tr>\n",
       "    <tr>\n",
       "      <th>2024-10-21</th>\n",
       "      <td>10615</td>\n",
       "      <td>10620</td>\n",
       "      <td>10560</td>\n",
       "      <td>10670</td>\n",
       "      <td>10560.0</td>\n",
       "      <td>10560.0</td>\n",
       "      <td>4459</td>\n",
       "    </tr>\n",
       "    <tr>\n",
       "      <th>2024-10-22</th>\n",
       "      <td>10515</td>\n",
       "      <td>10520</td>\n",
       "      <td>10585</td>\n",
       "      <td>10600</td>\n",
       "      <td>10440.0</td>\n",
       "      <td>10505.0</td>\n",
       "      <td>2054</td>\n",
       "    </tr>\n",
       "  </tbody>\n",
       "</table>\n",
       "</div>"
      ],
      "text/plain": [
       "LSEG.L        BID    ASK  OPEN_PRC  HIGH_1    LOW_1  TRDPRC_1  NUM_MOVES\n",
       "Date                                                                    \n",
       "2024-10-16  10320  10325     10280   10370  10280.0   10280.0       3039\n",
       "2024-10-17  10490  10495     10350   10520  10340.0  10448.38       3732\n",
       "2024-10-18  10530  10535     10410   10535  10365.0   10410.0       2931\n",
       "2024-10-21  10615  10620     10560   10670  10560.0   10560.0       4459\n",
       "2024-10-22  10515  10520     10585   10600  10440.0   10505.0       2054"
      ]
     },
     "execution_count": 10,
     "metadata": {},
     "output_type": "execute_result"
    }
   ],
   "source": [
    "df_historical.index.name = 'Date'\n",
    "df_historical.head(5)"
   ]
  },
  {
   "cell_type": "markdown",
   "id": "ae8f57f2-a740-4183-811d-7253c7592607",
   "metadata": {},
   "source": [
    "Next, we set the DataFrame object to *A2* cell, then set column header font and background color to make them distinguish from data."
   ]
  },
  {
   "cell_type": "code",
   "execution_count": 11,
   "id": "4c923e28-8b91-4d78-aec7-4401209f1d98",
   "metadata": {},
   "outputs": [],
   "source": [
    "historical_sheet.range(\"A2\").value = df_historical.head(30)\n",
    "\n",
    "#Make Column headers bold\n",
    "historical_sheet.range('2:1').api.Font.Bold = True\n",
    "# Change cell background color\n",
    "historical_sheet.range('A2:H2').color = (144,238,144) \n",
    "# Set sheet autofit the width of row\n",
    "historical_sheet.autofit('r')"
   ]
  },
  {
   "cell_type": "markdown",
   "id": "8798c060-d31e-42f9-9c34-a6e729942a76",
   "metadata": {},
   "source": [
    "The result is the following readable report table:\n",
    "\n",
    "![Figure-6](images/report_5.png \"workbook with format\") "
   ]
  },
  {
   "cell_type": "markdown",
   "id": "e55881b8-619e-4e03-b1b6-792ec7dbb882",
   "metadata": {},
   "source": [
    "## Plotting a Graph\n",
    "\n",
    "The xlwings CE also supports [Matplotlib](https://matplotlib.org/) figures in Excel as a picture.\n",
    "\n",
    "Firstly, we change all non-Date columns data type from String to Float."
   ]
  },
  {
   "cell_type": "code",
   "execution_count": 12,
   "id": "6b96de58-1725-450d-bdf6-cd9895067f6f",
   "metadata": {},
   "outputs": [],
   "source": [
    "for column in df_historical:\n",
    "    df_historical[column]=df_historical[column].astype(float)"
   ]
  },
  {
   "cell_type": "markdown",
   "id": "f52821d6-0fb9-4490-8f21-f0ba1fe540c4",
   "metadata": {},
   "source": [
    " we change the DataFrame Date index to be a data column. This will let us plot a graph using **Date** as X-Axis."
   ]
  },
  {
   "cell_type": "code",
   "execution_count": 13,
   "id": "129ba6f1-53fe-4eca-9a0c-40a2bc1fda10",
   "metadata": {},
   "outputs": [
    {
     "data": {
      "text/html": [
       "<div>\n",
       "<style scoped>\n",
       "    .dataframe tbody tr th:only-of-type {\n",
       "        vertical-align: middle;\n",
       "    }\n",
       "\n",
       "    .dataframe tbody tr th {\n",
       "        vertical-align: top;\n",
       "    }\n",
       "\n",
       "    .dataframe thead th {\n",
       "        text-align: right;\n",
       "    }\n",
       "</style>\n",
       "<table border=\"1\" class=\"dataframe\">\n",
       "  <thead>\n",
       "    <tr style=\"text-align: right;\">\n",
       "      <th>LSEG.L</th>\n",
       "      <th>Date</th>\n",
       "      <th>BID</th>\n",
       "      <th>ASK</th>\n",
       "      <th>OPEN_PRC</th>\n",
       "      <th>HIGH_1</th>\n",
       "      <th>LOW_1</th>\n",
       "      <th>TRDPRC_1</th>\n",
       "      <th>NUM_MOVES</th>\n",
       "    </tr>\n",
       "  </thead>\n",
       "  <tbody>\n",
       "    <tr>\n",
       "      <th>0</th>\n",
       "      <td>2024-10-16</td>\n",
       "      <td>10320.0</td>\n",
       "      <td>10325.0</td>\n",
       "      <td>10280.0</td>\n",
       "      <td>10370.0</td>\n",
       "      <td>10280.0</td>\n",
       "      <td>10280.00</td>\n",
       "      <td>3039.0</td>\n",
       "    </tr>\n",
       "    <tr>\n",
       "      <th>1</th>\n",
       "      <td>2024-10-17</td>\n",
       "      <td>10490.0</td>\n",
       "      <td>10495.0</td>\n",
       "      <td>10350.0</td>\n",
       "      <td>10520.0</td>\n",
       "      <td>10340.0</td>\n",
       "      <td>10448.38</td>\n",
       "      <td>3732.0</td>\n",
       "    </tr>\n",
       "    <tr>\n",
       "      <th>2</th>\n",
       "      <td>2024-10-18</td>\n",
       "      <td>10530.0</td>\n",
       "      <td>10535.0</td>\n",
       "      <td>10410.0</td>\n",
       "      <td>10535.0</td>\n",
       "      <td>10365.0</td>\n",
       "      <td>10410.00</td>\n",
       "      <td>2931.0</td>\n",
       "    </tr>\n",
       "    <tr>\n",
       "      <th>3</th>\n",
       "      <td>2024-10-21</td>\n",
       "      <td>10615.0</td>\n",
       "      <td>10620.0</td>\n",
       "      <td>10560.0</td>\n",
       "      <td>10670.0</td>\n",
       "      <td>10560.0</td>\n",
       "      <td>10560.00</td>\n",
       "      <td>4459.0</td>\n",
       "    </tr>\n",
       "    <tr>\n",
       "      <th>4</th>\n",
       "      <td>2024-10-22</td>\n",
       "      <td>10515.0</td>\n",
       "      <td>10520.0</td>\n",
       "      <td>10585.0</td>\n",
       "      <td>10600.0</td>\n",
       "      <td>10440.0</td>\n",
       "      <td>10505.00</td>\n",
       "      <td>2054.0</td>\n",
       "    </tr>\n",
       "  </tbody>\n",
       "</table>\n",
       "</div>"
      ],
      "text/plain": [
       "LSEG.L       Date      BID      ASK  OPEN_PRC   HIGH_1    LOW_1  TRDPRC_1  \\\n",
       "0      2024-10-16  10320.0  10325.0   10280.0  10370.0  10280.0  10280.00   \n",
       "1      2024-10-17  10490.0  10495.0   10350.0  10520.0  10340.0  10448.38   \n",
       "2      2024-10-18  10530.0  10535.0   10410.0  10535.0  10365.0  10410.00   \n",
       "3      2024-10-21  10615.0  10620.0   10560.0  10670.0  10560.0  10560.00   \n",
       "4      2024-10-22  10515.0  10520.0   10585.0  10600.0  10440.0  10505.00   \n",
       "\n",
       "LSEG.L  NUM_MOVES  \n",
       "0          3039.0  \n",
       "1          3732.0  \n",
       "2          2931.0  \n",
       "3          4459.0  \n",
       "4          2054.0  "
      ]
     },
     "execution_count": 13,
     "metadata": {},
     "output_type": "execute_result"
    }
   ],
   "source": [
    "df_historical.reset_index(level=0, inplace=True)\n",
    "df_historical.head(5)"
   ]
  },
  {
   "cell_type": "markdown",
   "id": "3bbca89e-6c38-4796-91d4-a0e7545eefe6",
   "metadata": {},
   "source": [
    "Then sort data as ascending order, and ploting a graph."
   ]
  },
  {
   "cell_type": "code",
   "execution_count": 14,
   "id": "2c855218-cde3-4ba1-9ab3-1f5decc533c9",
   "metadata": {},
   "outputs": [],
   "source": [
    "# Sort DataFrame by Date\n",
    "df_historical.sort_values('Date',ascending=True,inplace=True)"
   ]
  },
  {
   "cell_type": "code",
   "execution_count": 15,
   "id": "29c511a8-b324-4d00-9f46-861e3e4a2712",
   "metadata": {},
   "outputs": [
    {
     "data": {
      "image/png": "[encoded data removed]",
      "text/plain": [
       "<Figure size 1400x700 with 1 Axes>"
      ]
     },
     "metadata": {},
     "output_type": "display_data"
    }
   ],
   "source": [
    "# Plotting a Graph\n",
    "\n",
    "df_historical.set_index('Date',drop=True,inplace=True)\n",
    "fig = plt.figure()\n",
    "\n",
    "plt.ticklabel_format(style = 'plain')\n",
    "plt.title(f'{universe} interday data for last 90 days', color='black',fontsize='x-large')\n",
    "ax = fig.gca()\n",
    "\n",
    "\n",
    "df_historical.plot(kind='line', ax = fig.gca(),y=columns,figsize=(14,7) )\n",
    "plt.show()"
   ]
  },
  {
   "cell_type": "markdown",
   "id": "c1de7af3-c88b-4b71-9a6e-9f421e99c4ac",
   "metadata": {},
   "source": [
    "We will put this graph at the end of the report table in the Excel sheet. The application can check the position of the last row of the report table with xlwings [end()](https://docs.xlwings.org/en/latest/api/range.html#xlwings.Range.end) function.\n",
    "\n",
    "- The ```sheet.cells.last_cell``` statement returns lower right cell\n",
    "- The ```sheet.cells.last_cell.row``` statement returns row of the lower right cell"
   ]
  },
  {
   "cell_type": "code",
   "execution_count": 16,
   "id": "795164a7-21a9-4a42-a996-eacefcb1f741",
   "metadata": {},
   "outputs": [
    {
     "data": {
      "text/plain": [
       "32"
      ]
     },
     "execution_count": 16,
     "metadata": {},
     "output_type": "execute_result"
    }
   ],
   "source": [
    "# historical_sheet.cells.last_cell.row = row of the lower right cell\n",
    "\n",
    "'''\n",
    "change to your specified column, then go up until you hit a non-empty cell\n",
    "'''\n",
    "historical_last_row = historical_sheet.range((historical_sheet.cells.last_cell.row, 1)).end('up').row  \n",
    "historical_last_row\n",
    "\n",
    "#historical_last_row = historical_sheet.range('A' + str(historical_sheet.cells.last_cell.row)).end('up').row"
   ]
  },
  {
   "cell_type": "markdown",
   "id": "7ca0f8e8-5e76-497d-8e70-1e9a9778735f",
   "metadata": {},
   "source": [
    "Then, gets the position of the *last row of the table + 3 rows* cell. This makes a space between the data table and graph."
   ]
  },
  {
   "cell_type": "code",
   "execution_count": 17,
   "id": "4ba6fc0a-2079-4b3c-abf7-48cc8b75500e",
   "metadata": {},
   "outputs": [
    {
     "data": {
      "text/plain": [
       "<Range [Book1]LSEG.L Historical Data!$B$35>"
      ]
     },
     "execution_count": 17,
     "metadata": {},
     "output_type": "execute_result"
    }
   ],
   "source": [
    "rng = historical_sheet.range('B{row}'.format(row = historical_last_row + 3))\n",
    "rng"
   ]
  },
  {
   "cell_type": "markdown",
   "id": "874208e6-d57b-4833-bfe1-d6a9446042b2",
   "metadata": {},
   "source": [
    "Next, we add this figures as a picture to the xlwings CE sheet object with [pictures API](https://docs.xlwings.org/en/latest/api/pictures.html)."
   ]
  },
  {
   "cell_type": "code",
   "execution_count": 18,
   "id": "2b96c5b2-812b-4afc-b8ec-a6c5266341fc",
   "metadata": {},
   "outputs": [
    {
     "data": {
      "text/plain": [
       "<Picture 'MyPlot' in <Sheet [Book1]LSEG.L Historical Data>>"
      ]
     },
     "execution_count": 18,
     "metadata": {},
     "output_type": "execute_result"
    }
   ],
   "source": [
    "historical_sheet.pictures.add(fig, \n",
    "                              name='MyPlot', \n",
    "                              update=True, \n",
    "                              top=rng.top, \n",
    "                              left=rng.left,\n",
    "                              format='svg',\n",
    "                              export_options={\"dpi\": 300})"
   ]
  },
  {
   "cell_type": "markdown",
   "id": "90bdfe29-20a5-4b3d-9b84-d1288cf5fc70",
   "metadata": {},
   "source": [
    "The result is the following readable report table:\n",
    "\n",
    "![Figure-7](images/report_6.png \"graph is ready\") "
   ]
  },
  {
   "cell_type": "markdown",
   "id": "244dfe0b-5388-4e4b-b64b-b93cdb3b2648",
   "metadata": {},
   "source": [
    "## Adding new Excel Sheet\n",
    "\n",
    "We can create a new excel sheet and export data from Workspace to that newly created sheet dynamically."
   ]
  },
  {
   "cell_type": "code",
   "execution_count": 19,
   "id": "6f1dbb98-5023-449e-9f46-32148805c5cd",
   "metadata": {},
   "outputs": [
    {
     "data": {
      "text/plain": [
       "<Sheet [Book1]LSEG.L News Data>"
      ]
     },
     "execution_count": 19,
     "metadata": {},
     "output_type": "execute_result"
    }
   ],
   "source": [
    "news_sheet_title = '%s News Data' % (universe)\n",
    "# Create new sheet for News Data\n",
    "wb.sheets.add(news_sheet_title)  "
   ]
  },
  {
   "cell_type": "markdown",
   "id": "0f19d9cb-c4be-46f3-889a-84ebf4bac846",
   "metadata": {},
   "source": [
    "The above xlwings statement creates a new sheet in your excel workbook. \n",
    "\n",
    "![Figure-8](images/report_7.png \"create new sheet\") \n",
    "\n",
    "Then you can get this newly created sheet object and export data to it. I will demonstrate with News data."
   ]
  },
  {
   "cell_type": "code",
   "execution_count": 20,
   "id": "09aa0ef3-f245-4f6e-81f9-c974c9378204",
   "metadata": {},
   "outputs": [
    {
     "data": {
      "text/html": [
       "<div>\n",
       "<style scoped>\n",
       "    .dataframe tbody tr th:only-of-type {\n",
       "        vertical-align: middle;\n",
       "    }\n",
       "\n",
       "    .dataframe tbody tr th {\n",
       "        vertical-align: top;\n",
       "    }\n",
       "\n",
       "    .dataframe thead th {\n",
       "        text-align: right;\n",
       "    }\n",
       "</style>\n",
       "<table border=\"1\" class=\"dataframe\">\n",
       "  <thead>\n",
       "    <tr style=\"text-align: right;\">\n",
       "      <th></th>\n",
       "      <th>headline</th>\n",
       "      <th>storyId</th>\n",
       "      <th>sourceCode</th>\n",
       "    </tr>\n",
       "    <tr>\n",
       "      <th>versionCreated</th>\n",
       "      <th></th>\n",
       "      <th></th>\n",
       "      <th></th>\n",
       "    </tr>\n",
       "  </thead>\n",
       "  <tbody>\n",
       "    <tr>\n",
       "      <th>2025-02-19 23:32:45.361</th>\n",
       "      <td>London Stock Exchange adds 7% in past 3 months</td>\n",
       "      <td>urn:newsml:newsroom:20250219:nNRAvh4s9x:0</td>\n",
       "      <td>NS:GLOROU</td>\n",
       "    </tr>\n",
       "    <tr>\n",
       "      <th>2025-02-19 23:32:31.495</th>\n",
       "      <td>Past Week: London Stock Exchange Group (LSEG: ...</td>\n",
       "      <td>urn:newsml:newsroom:20250219:nNRAvh4r8b:0</td>\n",
       "      <td>NS:NEWMAR</td>\n",
       "    </tr>\n",
       "    <tr>\n",
       "      <th>2025-02-19 23:32:04.114</th>\n",
       "      <td>London Stock Exchange adds 7% in past 3 months</td>\n",
       "      <td>urn:newsml:newsroom:20250219:nNRAvh4rs9:0</td>\n",
       "      <td>NS:GLOROU</td>\n",
       "    </tr>\n",
       "  </tbody>\n",
       "</table>\n",
       "</div>"
      ],
      "text/plain": [
       "                                                                  headline  \\\n",
       "versionCreated                                                               \n",
       "2025-02-19 23:32:45.361     London Stock Exchange adds 7% in past 3 months   \n",
       "2025-02-19 23:32:31.495  Past Week: London Stock Exchange Group (LSEG: ...   \n",
       "2025-02-19 23:32:04.114     London Stock Exchange adds 7% in past 3 months   \n",
       "\n",
       "                                                           storyId sourceCode  \n",
       "versionCreated                                                                 \n",
       "2025-02-19 23:32:45.361  urn:newsml:newsroom:20250219:nNRAvh4s9x:0  NS:GLOROU  \n",
       "2025-02-19 23:32:31.495  urn:newsml:newsroom:20250219:nNRAvh4r8b:0  NS:NEWMAR  \n",
       "2025-02-19 23:32:04.114  urn:newsml:newsroom:20250219:nNRAvh4rs9:0  NS:GLOROU  "
      ]
     },
     "execution_count": 20,
     "metadata": {},
     "output_type": "execute_result"
    }
   ],
   "source": [
    "# -- Requesting News Data\n",
    "\n",
    "from datetime import timedelta\n",
    "news_df = ld.news.get_headlines(universe, start=\"20.02.2025\", end=timedelta(days=-10), count=10)\n",
    "news_df.head(3)"
   ]
  },
  {
   "cell_type": "code",
   "execution_count": 21,
   "id": "d9f28265-f521-4b11-aae3-48cb97b07781",
   "metadata": {},
   "outputs": [],
   "source": [
    "# initiate the xlwings sheet object]\n",
    "news_sheet = wb.sheets[news_sheet_title]\n",
    "\n",
    "#Set Sheet Title\n",
    "news_sheet.range(\"A1\").value = f'{universe} News data'\n",
    "news_sheet.range(\"A1\").api.Font.Size = 14 # Change font size\n",
    "news_sheet.range(\"A1\").api.Font.ColorIndex = 2 # Change font color\n",
    "news_sheet.range('A1:U1').color = (0,0,255) # Change cell background color"
   ]
  },
  {
   "cell_type": "markdown",
   "id": "ab947646-c685-42f2-8264-87eef684e70f",
   "metadata": {},
   "source": [
    "The result is following:\n",
    "\n",
    "![Figure-9](images/report_8.png \"set NEws sheet header\") \n",
    "\n",
    "Then we export DataFrame ```news_df``` object to News sheet ```news_sheet``` object."
   ]
  },
  {
   "cell_type": "code",
   "execution_count": 22,
   "id": "b85a0c99-9cc7-49e3-8016-9ae67c692d39",
   "metadata": {},
   "outputs": [],
   "source": [
    "news_sheet.range(\"A2\").options(index=False).value = news_df\n",
    "\n",
    "news_sheet.range('2:1').api.Font.Bold = True\n",
    "news_sheet.range('A2:U2').color = (144,238,144) # Change cell background color"
   ]
  },
  {
   "cell_type": "markdown",
   "id": "2e9f6089-52cd-4b91-a95f-da07191a5029",
   "metadata": {},
   "source": [
    "![Figure-10](images/report_9.png \"set ESG report data\") "
   ]
  },
  {
   "cell_type": "markdown",
   "id": "dc44db59-af9f-4928-a616-a347cded01d3",
   "metadata": {},
   "source": [
    "Then we save this excel file with xlwings ```Book``` object ```save()``` function."
   ]
  },
  {
   "cell_type": "code",
   "execution_count": 23,
   "id": "41900245-280c-4b80-9ee4-8e95d1c8211d",
   "metadata": {},
   "outputs": [],
   "source": [
    "wb.save('rdp_report.xlsx') # Classic Jupyter Notebook\n",
    "\n",
    "# wb.save() # Note: Somehow the Jupyter Lab is not allow overriden file as Classic Notebook."
   ]
  },
  {
   "cell_type": "markdown",
   "id": "e3858311-c4df-43bf-baec-6c793701ee28",
   "metadata": {},
   "source": [
    "## Reporting with xlwings PRO\n",
    "\n",
    "The above example source code shows that you can create an excel report file from Refinitiv Data easily with xlwings CE API. However, the Python application source code is a combination of formatting the report's look & feel and handling the data which makes the source code difficult to maintain in the long run.\n",
    "\n",
    "The [xlwings PRO ](https://www.xlwings.org/pricing) has features to solve all of CE version limitations. The [xlwings Reports](https://www.xlwings.org/reporting) provides a capability to generate excel report file with the following features:\n",
    "- **Separation of code and design**: Users without coding skills can change the template on their own without having to touch the Python code.\n",
    "- **Template variables**: Python variables (between curly braces) can be directly used in cells, e.g. ```{{ title }}```. They act as placeholders that will be replaced by the actual values.\n",
    "- **Frames for dynamic tables**: Frames are vertical containers that dynamically align and style tables that have a variable number of rows.\n",
    "\n",
    "You can get a free trial for xlwings PRO [here](https://www.xlwings.org/trial), then follow the instruction on [How to activate xlwings PRO](https://docs.xlwings.org/en/stable/installation.html#how-to-activate-xlwings-pro) page.\n",
    "\n",
    "Now let import the report package from xlwings PRO."
   ]
  },
  {
   "cell_type": "code",
   "execution_count": 24,
   "id": "d83d37ec-6212-4690-812b-c030836a7229",
   "metadata": {},
   "outputs": [],
   "source": [
    "# #uncomment if you do not already install xlwings PRO package.\n",
    "\n",
    "# #Install xlwings PRO packages in a current Jupyter kernal\n",
    "#import sys\n",
    "#!{sys.executable} -m pip install \"xlwings[all]\""
   ]
  },
  {
   "cell_type": "code",
   "execution_count": 25,
   "id": "178291b0-87f5-4ad0-8de9-a540640d604c",
   "metadata": {},
   "outputs": [],
   "source": [
    "from xlwings.pro.reports import create_report"
   ]
  },
  {
   "cell_type": "code",
   "execution_count": 26,
   "id": "6e6f76a2-c45a-4926-8b1a-52e9aeeafb8e",
   "metadata": {},
   "outputs": [],
   "source": [
    "# Resize figure\n",
    "# fig.set_size_inches(6.4, 4.8)"
   ]
  },
  {
   "cell_type": "markdown",
   "id": "f958aa02-45f2-4048-9a29-fc16c9a635b2",
   "metadata": {},
   "source": [
    "Then create an Excel template as a *rdp_report_template.xlsx* file with the following template format:\n",
    "\n",
    "![Figure-11](images/report_10.png \"excel report template\") \n",
    "\n",
    "This template defines all look and feel (font, color, etc.) and also the position of auto generated data with a variable inside ```{{``` and ```}}```.\n",
    "\n",
    "Then use the [report-api](https://docs.xlwings.org/en/stable/api/reports.html) to generate excel file based on a template file and data with ```render_template()``` function."
   ]
  },
  {
   "cell_type": "code",
   "execution_count": 27,
   "id": "f4f4ae83-5ccb-4cb1-8e16-e5cf73aa9c08",
   "metadata": {},
   "outputs": [],
   "source": [
    "app = xw.App(visible=True)\n",
    "report = app.render_template(\n",
    "        'rdp_report_template.xlsx',\n",
    "        'rdp_report_pro.xlsx',\n",
    "        historical_title=historical_title,\n",
    "        df_historical=df_historical.head(10),\n",
    "        graph = fig)"
   ]
  },
  {
   "cell_type": "markdown",
   "id": "af054817-9ed6-4e9e-9c2e-8a7a155d5d1f",
   "metadata": {},
   "source": [
    "The above ```render_template()``` function generates *rdp_report_pro.xlsx* file with format defined in rdp_report_template.xlsx and data that we pass to the function.\n",
    "\n",
    "![Figure-12](images/report_11.png \"xlwings pro report result\") "
   ]
  },
  {
   "cell_type": "markdown",
   "id": "25250faf-9448-40d8-9a05-d8f270926fbd",
   "metadata": {},
   "source": [
    "The application does need to interact or hard code setting cells, sheets, and workbooks anymore. The xlwings PRO report package automatic replace ```{{ historical_title }}```, ```{{ df_historical }}``` and ```{{graph}}``` variables with data that the application pass through report package's ```create_report()``` function.\n",
    "\n",
    "The application can pass text, DataFrame or even Graph to the function and xlwings will generate the excel report file based on the look and feel of the template file."
   ]
  },
  {
   "cell_type": "markdown",
   "id": "3d276e72-8744-4bec-8fb3-0b9738762c3d",
   "metadata": {},
   "source": [
    "### Close the Session"
   ]
  },
  {
   "cell_type": "code",
   "execution_count": 28,
   "id": "9fd6a802-e231-449c-bed4-7fc5fb6f555e",
   "metadata": {},
   "outputs": [],
   "source": [
    "ld.close_session()"
   ]
  },
  {
   "cell_type": "markdown",
   "id": "b4f28b96-4f6f-40a7-a738-cab2340c90f9",
   "metadata": {},
   "source": [
    "## Conclusion and Next Step\n",
    "\n",
    "The xlwings CE library lets Python developers integrate data with Excel in a simple way. The library is suitable for a wide range of developers from casual coders, data scientists, professional traders to seasoned programmers, and allows them to work on data analysis and generate reports based on their skill. \n",
    "\n",
    "The next part will cover and show how powerful xlwings PRO is when comparing to CE library. Python developers' life will be easier with xlwings PRO.\n",
    "\n",
    "At the same time, the [Data Library for Python](https://developers.lseg.com/en/api-catalog/lseg-data-platform/lseg-data-library-for-python) let developers rapidly access the Data Platform content with a few lines of code that easy to understand and maintain. Developers can focus on implement the business logic or analysis data without worry about the connection, authentication detail with the Platforms.\n",
    "\n",
    "The integration between LSEG APIs and xlwings is not limited to only the Data Library. Any [LSEG APIs](https://developers.lseg.com/en/api-catalog) that support Python programming language such as [Data/Delivery Platform APIs](https://developers.lseg.com/en/api-catalog/refinitiv-data-platform/refinitiv-data-platform-apis), or [LSEG Tick History - REST API](https://developers.lseg.com/en/api-catalog/refinitiv-tick-history/refinitiv-tick-history-rth-rest-api), or [DataStream Web Service - Python](https://developers.refinitiv.com/en/api-catalog/eikon/datastream-web-service/) can work with the xlwings library using the same concept and code logic as this Data Library notebook examples.\n"
   ]
  },
  {
   "cell_type": "markdown",
   "id": "2980b019-9a9f-4046-b62c-8af07fcfbc66",
   "metadata": {},
   "source": [
    "You can find more details regarding the Data Library for Python, xlwings and, related technologies for this notebook from the following resources:\n",
    "\n",
    "- [LSEG Data Library for Python](https://developers.lseg.com/en/api-catalog/lseg-data-platform/lseg-data-library-for-python) on the [LSEG Developer Community](https://developers.lseg.com/) website.\n",
    "- [Xlwings web site](https://www.xlwings.org/).\n",
    "- [Xlwings CE Document page](https://docs.xlwings.org/en/stable/).\n",
    "- [xlwings Pro page](https://www.xlwings.org/pricing).\n",
    "- [xlwings API Reference page](https://docs.xlwings.org/en/latest/api).\n",
    "- [xlwings Reports page](https://www.xlwings.org/reporting).\n",
    "- [xlwings Embedded Code page](https://docs.xlwings.org/en/stable/deployment.html#embedded-code).\n",
    "\n",
    "For any questions related to this article or Data Library, please use the Developers Community [Q&A Forum](https://community.developers.refinitiv.com/)."
   ]
  },
  {
   "cell_type": "code",
   "execution_count": null,
   "id": "a1ddaec1-b1c9-4304-9bad-c25e3c9a3e11",
   "metadata": {},
   "outputs": [],
   "source": []
  }
 ],
 "metadata": {
  "kernelspec": {
   "display_name": "xlwingsce_venv",
   "language": "python",
   "name": "python3"
  },
  "language_info": {
   "codemirror_mode": {
    "name": "ipython",
    "version": 3
   },
   "file_extension": ".py",
   "mimetype": "text/x-python",
   "name": "python",
   "nbconvert_exporter": "python",
   "pygments_lexer": "ipython3",
   "version": "3.11.5"
  }
 },
 "nbformat": 4,
 "nbformat_minor": 5
}
